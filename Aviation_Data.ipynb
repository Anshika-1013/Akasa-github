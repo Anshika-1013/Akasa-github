{
  "cells": [
    {
      "cell_type": "markdown",
      "metadata": {
        "id": "Kn4KbItt6S6V"
      },
      "source": [
        "# Step 1: Data Loading\n",
        "- Load the dataset (aviation_data.csv) for processing."
      ]
    },
    {
      "cell_type": "code",
      "execution_count": 12,
      "metadata": {
        "id": "U-uGn1Oc5nLi"
      },
      "outputs": [],
      "source": [
        "import pandas as pd\n",
        "df = pd.read_csv('/content/aviation_data.csv')\n"
      ]
    },
    {
      "cell_type": "markdown",
      "metadata": {
        "id": "QynieyJd54Rd"
      },
      "source": [
        "Data Cleaning\n",
        "\n",
        "a. Inconsistent Date and Time Formats:  \n",
        "i. DepartureDate and ArrivalDate are in MM/DD/YYYY format.  \n",
        "ii. DepartureTime and ArrivalTime are in HH:MM AM/PM format.  "
      ]
    },
    {
      "cell_type": "code",
      "execution_count": 13,
      "metadata": {
        "colab": {
          "base_uri": "https://localhost:8080/",
          "height": 258
        },
        "id": "nKv5mVVj59RO",
        "outputId": "93c29930-dfc3-4310-81c8-474b0f2f24cc"
      },
      "outputs": [
        {
          "data": {
            "application/vnd.google.colaboratory.intrinsic+json": {
              "summary": "{\n  \"name\": \"df\",\n  \"rows\": 12,\n  \"fields\": [\n    {\n      \"column\": \"FlightNumber\",\n      \"properties\": {\n        \"dtype\": \"category\",\n        \"num_unique_values\": 3,\n        \"samples\": [\n          \"AA1234\",\n          \"DL5678\",\n          \"UA9101\"\n        ],\n        \"semantic_type\": \"\",\n        \"description\": \"\"\n      }\n    },\n    {\n      \"column\": \"DepartureDate\",\n      \"properties\": {\n        \"dtype\": \"date\",\n        \"min\": \"2023-09-01 00:00:00\",\n        \"max\": \"2023-09-04 00:00:00\",\n        \"num_unique_values\": 4,\n        \"samples\": [\n          \"2023-09-02 00:00:00\",\n          \"2023-09-04 00:00:00\",\n          \"2023-09-01 00:00:00\"\n        ],\n        \"semantic_type\": \"\",\n        \"description\": \"\"\n      }\n    },\n    {\n      \"column\": \"DepartureTime\",\n      \"properties\": {\n        \"dtype\": \"object\",\n        \"num_unique_values\": 9,\n        \"samples\": [\n          \"12:30\",\n          \"13:15\",\n          \"13:00\"\n        ],\n        \"semantic_type\": \"\",\n        \"description\": \"\"\n      }\n    },\n    {\n      \"column\": \"ArrivalDate\",\n      \"properties\": {\n        \"dtype\": \"date\",\n        \"min\": \"2023-09-01 00:00:00\",\n        \"max\": \"2023-09-04 00:00:00\",\n        \"num_unique_values\": 4,\n        \"samples\": [\n          \"2023-09-02 00:00:00\",\n          \"2023-09-04 00:00:00\",\n          \"2023-09-01 00:00:00\"\n        ],\n        \"semantic_type\": \"\",\n        \"description\": \"\"\n      }\n    },\n    {\n      \"column\": \"ArrivalTime\",\n      \"properties\": {\n        \"dtype\": \"object\",\n        \"num_unique_values\": 9,\n        \"samples\": [\n          \"14:40\",\n          \"15:30\",\n          \"17:20\"\n        ],\n        \"semantic_type\": \"\",\n        \"description\": \"\"\n      }\n    },\n    {\n      \"column\": \"Airline\",\n      \"properties\": {\n        \"dtype\": \"category\",\n        \"num_unique_values\": 3,\n        \"samples\": [\n          \"American Airlines\",\n          \"Delta\",\n          \"United Airlines\"\n        ],\n        \"semantic_type\": \"\",\n        \"description\": \"\"\n      }\n    },\n    {\n      \"column\": \"DelayMinutes\",\n      \"properties\": {\n        \"dtype\": \"string\",\n        \"num_unique_values\": 9,\n        \"samples\": [\n          \"10\",\n          \"5\",\n          \"20\"\n        ],\n        \"semantic_type\": \"\",\n        \"description\": \"\"\n      }\n    }\n  ]\n}",
              "type": "dataframe",
              "variable_name": "df"
            },
            "text/html": [
              "\n",
              "  <div id=\"df-4f2aff56-f3ad-4f4b-a45e-034d300ef24c\" class=\"colab-df-container\">\n",
              "    <div>\n",
              "<style scoped>\n",
              "    .dataframe tbody tr th:only-of-type {\n",
              "        vertical-align: middle;\n",
              "    }\n",
              "\n",
              "    .dataframe tbody tr th {\n",
              "        vertical-align: top;\n",
              "    }\n",
              "\n",
              "    .dataframe thead th {\n",
              "        text-align: right;\n",
              "    }\n",
              "</style>\n",
              "<table border=\"1\" class=\"dataframe\">\n",
              "  <thead>\n",
              "    <tr style=\"text-align: right;\">\n",
              "      <th></th>\n",
              "      <th>FlightNumber</th>\n",
              "      <th>DepartureDate</th>\n",
              "      <th>DepartureTime</th>\n",
              "      <th>ArrivalDate</th>\n",
              "      <th>ArrivalTime</th>\n",
              "      <th>Airline</th>\n",
              "      <th>DelayMinutes</th>\n",
              "    </tr>\n",
              "  </thead>\n",
              "  <tbody>\n",
              "    <tr>\n",
              "      <th>0</th>\n",
              "      <td>AA1234</td>\n",
              "      <td>2023-09-01</td>\n",
              "      <td>08:30</td>\n",
              "      <td>2023-09-01</td>\n",
              "      <td>10:45</td>\n",
              "      <td>American Airlines</td>\n",
              "      <td>15</td>\n",
              "    </tr>\n",
              "    <tr>\n",
              "      <th>1</th>\n",
              "      <td>DL5678</td>\n",
              "      <td>2023-09-01</td>\n",
              "      <td>13:15</td>\n",
              "      <td>2023-09-01</td>\n",
              "      <td>15:30</td>\n",
              "      <td>Delta</td>\n",
              "      <td>5</td>\n",
              "    </tr>\n",
              "    <tr>\n",
              "      <th>2</th>\n",
              "      <td>UA9101</td>\n",
              "      <td>2023-09-01</td>\n",
              "      <td>17:00</td>\n",
              "      <td>2023-09-01</td>\n",
              "      <td>19:15</td>\n",
              "      <td>United Airlines</td>\n",
              "      <td>25</td>\n",
              "    </tr>\n",
              "    <tr>\n",
              "      <th>3</th>\n",
              "      <td>AA1234</td>\n",
              "      <td>2023-09-01</td>\n",
              "      <td>08:30</td>\n",
              "      <td>2023-09-01</td>\n",
              "      <td>22:45</td>\n",
              "      <td>American Airlines</td>\n",
              "      <td>30</td>\n",
              "    </tr>\n",
              "    <tr>\n",
              "      <th>4</th>\n",
              "      <td>DL5678</td>\n",
              "      <td>2023-09-02</td>\n",
              "      <td>14:00</td>\n",
              "      <td>2023-09-02</td>\n",
              "      <td>16:10</td>\n",
              "      <td>Delta</td>\n",
              "      <td>NaN</td>\n",
              "    </tr>\n",
              "  </tbody>\n",
              "</table>\n",
              "</div>\n",
              "    <div class=\"colab-df-buttons\">\n",
              "\n",
              "  <div class=\"colab-df-container\">\n",
              "    <button class=\"colab-df-convert\" onclick=\"convertToInteractive('df-4f2aff56-f3ad-4f4b-a45e-034d300ef24c')\"\n",
              "            title=\"Convert this dataframe to an interactive table.\"\n",
              "            style=\"display:none;\">\n",
              "\n",
              "  <svg xmlns=\"http://www.w3.org/2000/svg\" height=\"24px\" viewBox=\"0 -960 960 960\">\n",
              "    <path d=\"M120-120v-720h720v720H120Zm60-500h600v-160H180v160Zm220 220h160v-160H400v160Zm0 220h160v-160H400v160ZM180-400h160v-160H180v160Zm440 0h160v-160H620v160ZM180-180h160v-160H180v160Zm440 0h160v-160H620v160Z\"/>\n",
              "  </svg>\n",
              "    </button>\n",
              "\n",
              "  <style>\n",
              "    .colab-df-container {\n",
              "      display:flex;\n",
              "      gap: 12px;\n",
              "    }\n",
              "\n",
              "    .colab-df-convert {\n",
              "      background-color: #E8F0FE;\n",
              "      border: none;\n",
              "      border-radius: 50%;\n",
              "      cursor: pointer;\n",
              "      display: none;\n",
              "      fill: #1967D2;\n",
              "      height: 32px;\n",
              "      padding: 0 0 0 0;\n",
              "      width: 32px;\n",
              "    }\n",
              "\n",
              "    .colab-df-convert:hover {\n",
              "      background-color: #E2EBFA;\n",
              "      box-shadow: 0px 1px 2px rgba(60, 64, 67, 0.3), 0px 1px 3px 1px rgba(60, 64, 67, 0.15);\n",
              "      fill: #174EA6;\n",
              "    }\n",
              "\n",
              "    .colab-df-buttons div {\n",
              "      margin-bottom: 4px;\n",
              "    }\n",
              "\n",
              "    [theme=dark] .colab-df-convert {\n",
              "      background-color: #3B4455;\n",
              "      fill: #D2E3FC;\n",
              "    }\n",
              "\n",
              "    [theme=dark] .colab-df-convert:hover {\n",
              "      background-color: #434B5C;\n",
              "      box-shadow: 0px 1px 3px 1px rgba(0, 0, 0, 0.15);\n",
              "      filter: drop-shadow(0px 1px 2px rgba(0, 0, 0, 0.3));\n",
              "      fill: #FFFFFF;\n",
              "    }\n",
              "  </style>\n",
              "\n",
              "    <script>\n",
              "      const buttonEl =\n",
              "        document.querySelector('#df-4f2aff56-f3ad-4f4b-a45e-034d300ef24c button.colab-df-convert');\n",
              "      buttonEl.style.display =\n",
              "        google.colab.kernel.accessAllowed ? 'block' : 'none';\n",
              "\n",
              "      async function convertToInteractive(key) {\n",
              "        const element = document.querySelector('#df-4f2aff56-f3ad-4f4b-a45e-034d300ef24c');\n",
              "        const dataTable =\n",
              "          await google.colab.kernel.invokeFunction('convertToInteractive',\n",
              "                                                    [key], {});\n",
              "        if (!dataTable) return;\n",
              "\n",
              "        const docLinkHtml = 'Like what you see? Visit the ' +\n",
              "          '<a target=\"_blank\" href=https://colab.research.google.com/notebooks/data_table.ipynb>data table notebook</a>'\n",
              "          + ' to learn more about interactive tables.';\n",
              "        element.innerHTML = '';\n",
              "        dataTable['output_type'] = 'display_data';\n",
              "        await google.colab.output.renderOutput(dataTable, element);\n",
              "        const docLink = document.createElement('div');\n",
              "        docLink.innerHTML = docLinkHtml;\n",
              "        element.appendChild(docLink);\n",
              "      }\n",
              "    </script>\n",
              "  </div>\n",
              "\n",
              "\n",
              "<div id=\"df-9dc18dc8-81ce-460f-ba3a-ecf967dc28db\">\n",
              "  <button class=\"colab-df-quickchart\" onclick=\"quickchart('df-9dc18dc8-81ce-460f-ba3a-ecf967dc28db')\"\n",
              "            title=\"Suggest charts\"\n",
              "            style=\"display:none;\">\n",
              "\n",
              "<svg xmlns=\"http://www.w3.org/2000/svg\" height=\"24px\"viewBox=\"0 0 24 24\"\n",
              "     width=\"24px\">\n",
              "    <g>\n",
              "        <path d=\"M19 3H5c-1.1 0-2 .9-2 2v14c0 1.1.9 2 2 2h14c1.1 0 2-.9 2-2V5c0-1.1-.9-2-2-2zM9 17H7v-7h2v7zm4 0h-2V7h2v10zm4 0h-2v-4h2v4z\"/>\n",
              "    </g>\n",
              "</svg>\n",
              "  </button>\n",
              "\n",
              "<style>\n",
              "  .colab-df-quickchart {\n",
              "      --bg-color: #E8F0FE;\n",
              "      --fill-color: #1967D2;\n",
              "      --hover-bg-color: #E2EBFA;\n",
              "      --hover-fill-color: #174EA6;\n",
              "      --disabled-fill-color: #AAA;\n",
              "      --disabled-bg-color: #DDD;\n",
              "  }\n",
              "\n",
              "  [theme=dark] .colab-df-quickchart {\n",
              "      --bg-color: #3B4455;\n",
              "      --fill-color: #D2E3FC;\n",
              "      --hover-bg-color: #434B5C;\n",
              "      --hover-fill-color: #FFFFFF;\n",
              "      --disabled-bg-color: #3B4455;\n",
              "      --disabled-fill-color: #666;\n",
              "  }\n",
              "\n",
              "  .colab-df-quickchart {\n",
              "    background-color: var(--bg-color);\n",
              "    border: none;\n",
              "    border-radius: 50%;\n",
              "    cursor: pointer;\n",
              "    display: none;\n",
              "    fill: var(--fill-color);\n",
              "    height: 32px;\n",
              "    padding: 0;\n",
              "    width: 32px;\n",
              "  }\n",
              "\n",
              "  .colab-df-quickchart:hover {\n",
              "    background-color: var(--hover-bg-color);\n",
              "    box-shadow: 0 1px 2px rgba(60, 64, 67, 0.3), 0 1px 3px 1px rgba(60, 64, 67, 0.15);\n",
              "    fill: var(--button-hover-fill-color);\n",
              "  }\n",
              "\n",
              "  .colab-df-quickchart-complete:disabled,\n",
              "  .colab-df-quickchart-complete:disabled:hover {\n",
              "    background-color: var(--disabled-bg-color);\n",
              "    fill: var(--disabled-fill-color);\n",
              "    box-shadow: none;\n",
              "  }\n",
              "\n",
              "  .colab-df-spinner {\n",
              "    border: 2px solid var(--fill-color);\n",
              "    border-color: transparent;\n",
              "    border-bottom-color: var(--fill-color);\n",
              "    animation:\n",
              "      spin 1s steps(1) infinite;\n",
              "  }\n",
              "\n",
              "  @keyframes spin {\n",
              "    0% {\n",
              "      border-color: transparent;\n",
              "      border-bottom-color: var(--fill-color);\n",
              "      border-left-color: var(--fill-color);\n",
              "    }\n",
              "    20% {\n",
              "      border-color: transparent;\n",
              "      border-left-color: var(--fill-color);\n",
              "      border-top-color: var(--fill-color);\n",
              "    }\n",
              "    30% {\n",
              "      border-color: transparent;\n",
              "      border-left-color: var(--fill-color);\n",
              "      border-top-color: var(--fill-color);\n",
              "      border-right-color: var(--fill-color);\n",
              "    }\n",
              "    40% {\n",
              "      border-color: transparent;\n",
              "      border-right-color: var(--fill-color);\n",
              "      border-top-color: var(--fill-color);\n",
              "    }\n",
              "    60% {\n",
              "      border-color: transparent;\n",
              "      border-right-color: var(--fill-color);\n",
              "    }\n",
              "    80% {\n",
              "      border-color: transparent;\n",
              "      border-right-color: var(--fill-color);\n",
              "      border-bottom-color: var(--fill-color);\n",
              "    }\n",
              "    90% {\n",
              "      border-color: transparent;\n",
              "      border-bottom-color: var(--fill-color);\n",
              "    }\n",
              "  }\n",
              "</style>\n",
              "\n",
              "  <script>\n",
              "    async function quickchart(key) {\n",
              "      const quickchartButtonEl =\n",
              "        document.querySelector('#' + key + ' button');\n",
              "      quickchartButtonEl.disabled = true;  // To prevent multiple clicks.\n",
              "      quickchartButtonEl.classList.add('colab-df-spinner');\n",
              "      try {\n",
              "        const charts = await google.colab.kernel.invokeFunction(\n",
              "            'suggestCharts', [key], {});\n",
              "      } catch (error) {\n",
              "        console.error('Error during call to suggestCharts:', error);\n",
              "      }\n",
              "      quickchartButtonEl.classList.remove('colab-df-spinner');\n",
              "      quickchartButtonEl.classList.add('colab-df-quickchart-complete');\n",
              "    }\n",
              "    (() => {\n",
              "      let quickchartButtonEl =\n",
              "        document.querySelector('#df-9dc18dc8-81ce-460f-ba3a-ecf967dc28db button');\n",
              "      quickchartButtonEl.style.display =\n",
              "        google.colab.kernel.accessAllowed ? 'block' : 'none';\n",
              "    })();\n",
              "  </script>\n",
              "</div>\n",
              "\n",
              "    </div>\n",
              "  </div>\n"
            ],
            "text/plain": [
              "  FlightNumber DepartureDate DepartureTime ArrivalDate ArrivalTime  \\\n",
              "0       AA1234    2023-09-01         08:30  2023-09-01       10:45   \n",
              "1       DL5678    2023-09-01         13:15  2023-09-01       15:30   \n",
              "2       UA9101    2023-09-01         17:00  2023-09-01       19:15   \n",
              "3       AA1234    2023-09-01         08:30  2023-09-01       22:45   \n",
              "4       DL5678    2023-09-02         14:00  2023-09-02       16:10   \n",
              "\n",
              "             Airline              DelayMinutes  \n",
              "0  American Airlines                        15  \n",
              "1              Delta                         5  \n",
              "2    United Airlines                        25  \n",
              "3  American Airlines                        30  \n",
              "4              Delta                       NaN  "
            ]
          },
          "execution_count": 13,
          "metadata": {},
          "output_type": "execute_result"
        }
      ],
      "source": [
        "df['DepartureDate'] = pd.to_datetime(df['DepartureDate'], format='%m/%d/%Y')\n",
        "df['ArrivalDate'] = pd.to_datetime(df['ArrivalDate'], format='%m/%d/%Y')\n",
        "\n",
        "df['DepartureDateTime'] = pd.to_datetime(df['DepartureDate'].astype(str) + ' ' + df['DepartureTime'], format='%Y-%m-%d %I:%M %p')\n",
        "df['ArrivalDateTime'] = pd.to_datetime(df['ArrivalDate'].astype(str) + ' ' + df['ArrivalTime'], format='%Y-%m-%d %I:%M %p')\n",
        "\n",
        "\n",
        "df['DepartureTime'] = df['DepartureDateTime'].dt.strftime('%H:%M')\n",
        "df['ArrivalTime'] = df['ArrivalDateTime'].dt.strftime('%H:%M')\n",
        "\n",
        "\n",
        "df.drop(columns=['DepartureDateTime', 'ArrivalDateTime'], inplace=True)\n",
        "\n",
        "df.head()"
      ]
    },
    {
      "cell_type": "markdown",
      "metadata": {
        "id": "NuD3_qaN7rtb"
      },
      "source": [
        "Converted the DepartureDate and ArrivalDate to YYYY-MM-DD.\n",
        "\n",
        "Converted DepartureTime and ArrivalTime to 24-hour format."
      ]
    },
    {
      "cell_type": "code",
      "execution_count": 14,
      "metadata": {
        "colab": {
          "base_uri": "https://localhost:8080/",
          "height": 258
        },
        "id": "yTaXZmaL_Ru5",
        "outputId": "5cd89986-b76b-47d9-939b-62a11b15a995"
      },
      "outputs": [
        {
          "data": {
            "application/vnd.google.colaboratory.intrinsic+json": {
              "summary": "{\n  \"name\": \"df\",\n  \"rows\": 12,\n  \"fields\": [\n    {\n      \"column\": \"FlightNumber\",\n      \"properties\": {\n        \"dtype\": \"category\",\n        \"num_unique_values\": 3,\n        \"samples\": [\n          \"AA1234\",\n          \"DL5678\",\n          \"UA9101\"\n        ],\n        \"semantic_type\": \"\",\n        \"description\": \"\"\n      }\n    },\n    {\n      \"column\": \"DepartureDate\",\n      \"properties\": {\n        \"dtype\": \"date\",\n        \"min\": \"2023-09-01 00:00:00\",\n        \"max\": \"2023-09-04 00:00:00\",\n        \"num_unique_values\": 4,\n        \"samples\": [\n          \"2023-09-02 00:00:00\",\n          \"2023-09-04 00:00:00\",\n          \"2023-09-01 00:00:00\"\n        ],\n        \"semantic_type\": \"\",\n        \"description\": \"\"\n      }\n    },\n    {\n      \"column\": \"DepartureTime\",\n      \"properties\": {\n        \"dtype\": \"object\",\n        \"num_unique_values\": 9,\n        \"samples\": [\n          \"12:30\",\n          \"13:15\",\n          \"13:00\"\n        ],\n        \"semantic_type\": \"\",\n        \"description\": \"\"\n      }\n    },\n    {\n      \"column\": \"ArrivalDate\",\n      \"properties\": {\n        \"dtype\": \"date\",\n        \"min\": \"2023-09-01 00:00:00\",\n        \"max\": \"2023-09-04 00:00:00\",\n        \"num_unique_values\": 4,\n        \"samples\": [\n          \"2023-09-02 00:00:00\",\n          \"2023-09-04 00:00:00\",\n          \"2023-09-01 00:00:00\"\n        ],\n        \"semantic_type\": \"\",\n        \"description\": \"\"\n      }\n    },\n    {\n      \"column\": \"ArrivalTime\",\n      \"properties\": {\n        \"dtype\": \"object\",\n        \"num_unique_values\": 9,\n        \"samples\": [\n          \"14:40\",\n          \"15:30\",\n          \"17:20\"\n        ],\n        \"semantic_type\": \"\",\n        \"description\": \"\"\n      }\n    },\n    {\n      \"column\": \"Airline\",\n      \"properties\": {\n        \"dtype\": \"category\",\n        \"num_unique_values\": 3,\n        \"samples\": [\n          \"American Airlines\",\n          \"Delta\",\n          \"United Airlines\"\n        ],\n        \"semantic_type\": \"\",\n        \"description\": \"\"\n      }\n    },\n    {\n      \"column\": \"DelayMinutes\",\n      \"properties\": {\n        \"dtype\": \"number\",\n        \"std\": 16.666666666666668,\n        \"min\": 5.0,\n        \"max\": 60.0,\n        \"num_unique_values\": 8,\n        \"samples\": [\n          5.0,\n          60.0,\n          15.0\n        ],\n        \"semantic_type\": \"\",\n        \"description\": \"\"\n      }\n    }\n  ]\n}",
              "type": "dataframe",
              "variable_name": "df"
            },
            "text/html": [
              "\n",
              "  <div id=\"df-dd322776-6195-45ec-83d3-35df5656cd82\" class=\"colab-df-container\">\n",
              "    <div>\n",
              "<style scoped>\n",
              "    .dataframe tbody tr th:only-of-type {\n",
              "        vertical-align: middle;\n",
              "    }\n",
              "\n",
              "    .dataframe tbody tr th {\n",
              "        vertical-align: top;\n",
              "    }\n",
              "\n",
              "    .dataframe thead th {\n",
              "        text-align: right;\n",
              "    }\n",
              "</style>\n",
              "<table border=\"1\" class=\"dataframe\">\n",
              "  <thead>\n",
              "    <tr style=\"text-align: right;\">\n",
              "      <th></th>\n",
              "      <th>FlightNumber</th>\n",
              "      <th>DepartureDate</th>\n",
              "      <th>DepartureTime</th>\n",
              "      <th>ArrivalDate</th>\n",
              "      <th>ArrivalTime</th>\n",
              "      <th>Airline</th>\n",
              "      <th>DelayMinutes</th>\n",
              "    </tr>\n",
              "  </thead>\n",
              "  <tbody>\n",
              "    <tr>\n",
              "      <th>0</th>\n",
              "      <td>AA1234</td>\n",
              "      <td>2023-09-01</td>\n",
              "      <td>08:30</td>\n",
              "      <td>2023-09-01</td>\n",
              "      <td>10:45</td>\n",
              "      <td>American Airlines</td>\n",
              "      <td>15.0</td>\n",
              "    </tr>\n",
              "    <tr>\n",
              "      <th>1</th>\n",
              "      <td>DL5678</td>\n",
              "      <td>2023-09-01</td>\n",
              "      <td>13:15</td>\n",
              "      <td>2023-09-01</td>\n",
              "      <td>15:30</td>\n",
              "      <td>Delta</td>\n",
              "      <td>5.0</td>\n",
              "    </tr>\n",
              "    <tr>\n",
              "      <th>2</th>\n",
              "      <td>UA9101</td>\n",
              "      <td>2023-09-01</td>\n",
              "      <td>17:00</td>\n",
              "      <td>2023-09-01</td>\n",
              "      <td>19:15</td>\n",
              "      <td>United Airlines</td>\n",
              "      <td>25.0</td>\n",
              "    </tr>\n",
              "    <tr>\n",
              "      <th>3</th>\n",
              "      <td>AA1234</td>\n",
              "      <td>2023-09-01</td>\n",
              "      <td>08:30</td>\n",
              "      <td>2023-09-01</td>\n",
              "      <td>22:45</td>\n",
              "      <td>American Airlines</td>\n",
              "      <td>30.0</td>\n",
              "    </tr>\n",
              "    <tr>\n",
              "      <th>4</th>\n",
              "      <td>DL5678</td>\n",
              "      <td>2023-09-02</td>\n",
              "      <td>14:00</td>\n",
              "      <td>2023-09-02</td>\n",
              "      <td>16:10</td>\n",
              "      <td>Delta</td>\n",
              "      <td>NaN</td>\n",
              "    </tr>\n",
              "  </tbody>\n",
              "</table>\n",
              "</div>\n",
              "    <div class=\"colab-df-buttons\">\n",
              "\n",
              "  <div class=\"colab-df-container\">\n",
              "    <button class=\"colab-df-convert\" onclick=\"convertToInteractive('df-dd322776-6195-45ec-83d3-35df5656cd82')\"\n",
              "            title=\"Convert this dataframe to an interactive table.\"\n",
              "            style=\"display:none;\">\n",
              "\n",
              "  <svg xmlns=\"http://www.w3.org/2000/svg\" height=\"24px\" viewBox=\"0 -960 960 960\">\n",
              "    <path d=\"M120-120v-720h720v720H120Zm60-500h600v-160H180v160Zm220 220h160v-160H400v160Zm0 220h160v-160H400v160ZM180-400h160v-160H180v160Zm440 0h160v-160H620v160ZM180-180h160v-160H180v160Zm440 0h160v-160H620v160Z\"/>\n",
              "  </svg>\n",
              "    </button>\n",
              "\n",
              "  <style>\n",
              "    .colab-df-container {\n",
              "      display:flex;\n",
              "      gap: 12px;\n",
              "    }\n",
              "\n",
              "    .colab-df-convert {\n",
              "      background-color: #E8F0FE;\n",
              "      border: none;\n",
              "      border-radius: 50%;\n",
              "      cursor: pointer;\n",
              "      display: none;\n",
              "      fill: #1967D2;\n",
              "      height: 32px;\n",
              "      padding: 0 0 0 0;\n",
              "      width: 32px;\n",
              "    }\n",
              "\n",
              "    .colab-df-convert:hover {\n",
              "      background-color: #E2EBFA;\n",
              "      box-shadow: 0px 1px 2px rgba(60, 64, 67, 0.3), 0px 1px 3px 1px rgba(60, 64, 67, 0.15);\n",
              "      fill: #174EA6;\n",
              "    }\n",
              "\n",
              "    .colab-df-buttons div {\n",
              "      margin-bottom: 4px;\n",
              "    }\n",
              "\n",
              "    [theme=dark] .colab-df-convert {\n",
              "      background-color: #3B4455;\n",
              "      fill: #D2E3FC;\n",
              "    }\n",
              "\n",
              "    [theme=dark] .colab-df-convert:hover {\n",
              "      background-color: #434B5C;\n",
              "      box-shadow: 0px 1px 3px 1px rgba(0, 0, 0, 0.15);\n",
              "      filter: drop-shadow(0px 1px 2px rgba(0, 0, 0, 0.3));\n",
              "      fill: #FFFFFF;\n",
              "    }\n",
              "  </style>\n",
              "\n",
              "    <script>\n",
              "      const buttonEl =\n",
              "        document.querySelector('#df-dd322776-6195-45ec-83d3-35df5656cd82 button.colab-df-convert');\n",
              "      buttonEl.style.display =\n",
              "        google.colab.kernel.accessAllowed ? 'block' : 'none';\n",
              "\n",
              "      async function convertToInteractive(key) {\n",
              "        const element = document.querySelector('#df-dd322776-6195-45ec-83d3-35df5656cd82');\n",
              "        const dataTable =\n",
              "          await google.colab.kernel.invokeFunction('convertToInteractive',\n",
              "                                                    [key], {});\n",
              "        if (!dataTable) return;\n",
              "\n",
              "        const docLinkHtml = 'Like what you see? Visit the ' +\n",
              "          '<a target=\"_blank\" href=https://colab.research.google.com/notebooks/data_table.ipynb>data table notebook</a>'\n",
              "          + ' to learn more about interactive tables.';\n",
              "        element.innerHTML = '';\n",
              "        dataTable['output_type'] = 'display_data';\n",
              "        await google.colab.output.renderOutput(dataTable, element);\n",
              "        const docLink = document.createElement('div');\n",
              "        docLink.innerHTML = docLinkHtml;\n",
              "        element.appendChild(docLink);\n",
              "      }\n",
              "    </script>\n",
              "  </div>\n",
              "\n",
              "\n",
              "<div id=\"df-a5d04ae9-d83e-46c2-a6a8-354df2086f10\">\n",
              "  <button class=\"colab-df-quickchart\" onclick=\"quickchart('df-a5d04ae9-d83e-46c2-a6a8-354df2086f10')\"\n",
              "            title=\"Suggest charts\"\n",
              "            style=\"display:none;\">\n",
              "\n",
              "<svg xmlns=\"http://www.w3.org/2000/svg\" height=\"24px\"viewBox=\"0 0 24 24\"\n",
              "     width=\"24px\">\n",
              "    <g>\n",
              "        <path d=\"M19 3H5c-1.1 0-2 .9-2 2v14c0 1.1.9 2 2 2h14c1.1 0 2-.9 2-2V5c0-1.1-.9-2-2-2zM9 17H7v-7h2v7zm4 0h-2V7h2v10zm4 0h-2v-4h2v4z\"/>\n",
              "    </g>\n",
              "</svg>\n",
              "  </button>\n",
              "\n",
              "<style>\n",
              "  .colab-df-quickchart {\n",
              "      --bg-color: #E8F0FE;\n",
              "      --fill-color: #1967D2;\n",
              "      --hover-bg-color: #E2EBFA;\n",
              "      --hover-fill-color: #174EA6;\n",
              "      --disabled-fill-color: #AAA;\n",
              "      --disabled-bg-color: #DDD;\n",
              "  }\n",
              "\n",
              "  [theme=dark] .colab-df-quickchart {\n",
              "      --bg-color: #3B4455;\n",
              "      --fill-color: #D2E3FC;\n",
              "      --hover-bg-color: #434B5C;\n",
              "      --hover-fill-color: #FFFFFF;\n",
              "      --disabled-bg-color: #3B4455;\n",
              "      --disabled-fill-color: #666;\n",
              "  }\n",
              "\n",
              "  .colab-df-quickchart {\n",
              "    background-color: var(--bg-color);\n",
              "    border: none;\n",
              "    border-radius: 50%;\n",
              "    cursor: pointer;\n",
              "    display: none;\n",
              "    fill: var(--fill-color);\n",
              "    height: 32px;\n",
              "    padding: 0;\n",
              "    width: 32px;\n",
              "  }\n",
              "\n",
              "  .colab-df-quickchart:hover {\n",
              "    background-color: var(--hover-bg-color);\n",
              "    box-shadow: 0 1px 2px rgba(60, 64, 67, 0.3), 0 1px 3px 1px rgba(60, 64, 67, 0.15);\n",
              "    fill: var(--button-hover-fill-color);\n",
              "  }\n",
              "\n",
              "  .colab-df-quickchart-complete:disabled,\n",
              "  .colab-df-quickchart-complete:disabled:hover {\n",
              "    background-color: var(--disabled-bg-color);\n",
              "    fill: var(--disabled-fill-color);\n",
              "    box-shadow: none;\n",
              "  }\n",
              "\n",
              "  .colab-df-spinner {\n",
              "    border: 2px solid var(--fill-color);\n",
              "    border-color: transparent;\n",
              "    border-bottom-color: var(--fill-color);\n",
              "    animation:\n",
              "      spin 1s steps(1) infinite;\n",
              "  }\n",
              "\n",
              "  @keyframes spin {\n",
              "    0% {\n",
              "      border-color: transparent;\n",
              "      border-bottom-color: var(--fill-color);\n",
              "      border-left-color: var(--fill-color);\n",
              "    }\n",
              "    20% {\n",
              "      border-color: transparent;\n",
              "      border-left-color: var(--fill-color);\n",
              "      border-top-color: var(--fill-color);\n",
              "    }\n",
              "    30% {\n",
              "      border-color: transparent;\n",
              "      border-left-color: var(--fill-color);\n",
              "      border-top-color: var(--fill-color);\n",
              "      border-right-color: var(--fill-color);\n",
              "    }\n",
              "    40% {\n",
              "      border-color: transparent;\n",
              "      border-right-color: var(--fill-color);\n",
              "      border-top-color: var(--fill-color);\n",
              "    }\n",
              "    60% {\n",
              "      border-color: transparent;\n",
              "      border-right-color: var(--fill-color);\n",
              "    }\n",
              "    80% {\n",
              "      border-color: transparent;\n",
              "      border-right-color: var(--fill-color);\n",
              "      border-bottom-color: var(--fill-color);\n",
              "    }\n",
              "    90% {\n",
              "      border-color: transparent;\n",
              "      border-bottom-color: var(--fill-color);\n",
              "    }\n",
              "  }\n",
              "</style>\n",
              "\n",
              "  <script>\n",
              "    async function quickchart(key) {\n",
              "      const quickchartButtonEl =\n",
              "        document.querySelector('#' + key + ' button');\n",
              "      quickchartButtonEl.disabled = true;  // To prevent multiple clicks.\n",
              "      quickchartButtonEl.classList.add('colab-df-spinner');\n",
              "      try {\n",
              "        const charts = await google.colab.kernel.invokeFunction(\n",
              "            'suggestCharts', [key], {});\n",
              "      } catch (error) {\n",
              "        console.error('Error during call to suggestCharts:', error);\n",
              "      }\n",
              "      quickchartButtonEl.classList.remove('colab-df-spinner');\n",
              "      quickchartButtonEl.classList.add('colab-df-quickchart-complete');\n",
              "    }\n",
              "    (() => {\n",
              "      let quickchartButtonEl =\n",
              "        document.querySelector('#df-a5d04ae9-d83e-46c2-a6a8-354df2086f10 button');\n",
              "      quickchartButtonEl.style.display =\n",
              "        google.colab.kernel.accessAllowed ? 'block' : 'none';\n",
              "    })();\n",
              "  </script>\n",
              "</div>\n",
              "\n",
              "    </div>\n",
              "  </div>\n"
            ],
            "text/plain": [
              "  FlightNumber DepartureDate DepartureTime ArrivalDate ArrivalTime  \\\n",
              "0       AA1234    2023-09-01         08:30  2023-09-01       10:45   \n",
              "1       DL5678    2023-09-01         13:15  2023-09-01       15:30   \n",
              "2       UA9101    2023-09-01         17:00  2023-09-01       19:15   \n",
              "3       AA1234    2023-09-01         08:30  2023-09-01       22:45   \n",
              "4       DL5678    2023-09-02         14:00  2023-09-02       16:10   \n",
              "\n",
              "             Airline  DelayMinutes  \n",
              "0  American Airlines          15.0  \n",
              "1              Delta           5.0  \n",
              "2    United Airlines          25.0  \n",
              "3  American Airlines          30.0  \n",
              "4              Delta           NaN  "
            ]
          },
          "execution_count": 14,
          "metadata": {},
          "output_type": "execute_result"
        }
      ],
      "source": [
        "\n",
        "df['DelayMinutes'] = pd.to_numeric(df['DelayMinutes'], errors='coerce')\n",
        "df.head()\n"
      ]
    },
    {
      "cell_type": "markdown",
      "metadata": {
        "id": "J3hMqUTf76w5"
      },
      "source": [
        "b. Missing Values:  \n",
        "\n",
        "i. The DelayMinutes column contains NaN values that need to be handled.  "
      ]
    },
    {
      "cell_type": "code",
      "execution_count": 15,
      "metadata": {
        "colab": {
          "base_uri": "https://localhost:8080/"
        },
        "id": "laBJwASz6n6y",
        "outputId": "e2337881-d393-46cb-ca4d-f7945d1885a9"
      },
      "outputs": [
        {
          "name": "stdout",
          "output_type": "stream",
          "text": [
            "  FlightNumber DepartureDate DepartureTime ArrivalDate ArrivalTime  \\\n",
            "0       AA1234    2023-09-01         08:30  2023-09-01       10:45   \n",
            "1       DL5678    2023-09-01         13:15  2023-09-01       15:30   \n",
            "2       UA9101    2023-09-01         17:00  2023-09-01       19:15   \n",
            "3       AA1234    2023-09-01         08:30  2023-09-01       22:45   \n",
            "4       DL5678    2023-09-02         14:00  2023-09-02       16:10   \n",
            "\n",
            "             Airline  DelayMinutes  \n",
            "0  American Airlines     15.000000  \n",
            "1              Delta      5.000000  \n",
            "2    United Airlines     25.000000  \n",
            "3  American Airlines     30.000000  \n",
            "4              Delta     13.333333  \n"
          ]
        }
      ],
      "source": [
        "mean_delays_by_group = df.groupby(['Airline', 'FlightNumber'])['DelayMinutes'].transform('mean')\n",
        "\n",
        "df['DelayMinutes'].fillna(mean_delays_by_group, inplace=True)\n",
        "print(df.head())\n"
      ]
    },
    {
      "cell_type": "code",
      "execution_count": 16,
      "metadata": {
        "colab": {
          "base_uri": "https://localhost:8080/",
          "height": 258
        },
        "id": "lchICg8MARjk",
        "outputId": "3703cac7-d48d-423b-b176-fc6539b7e6ea"
      },
      "outputs": [
        {
          "data": {
            "application/vnd.google.colaboratory.intrinsic+json": {
              "summary": "{\n  \"name\": \"df\",\n  \"rows\": 12,\n  \"fields\": [\n    {\n      \"column\": \"FlightNumber\",\n      \"properties\": {\n        \"dtype\": \"category\",\n        \"num_unique_values\": 3,\n        \"samples\": [\n          \"AA1234\",\n          \"DL5678\",\n          \"UA9101\"\n        ],\n        \"semantic_type\": \"\",\n        \"description\": \"\"\n      }\n    },\n    {\n      \"column\": \"DepartureDate\",\n      \"properties\": {\n        \"dtype\": \"date\",\n        \"min\": \"2023-09-01 00:00:00\",\n        \"max\": \"2023-09-04 00:00:00\",\n        \"num_unique_values\": 4,\n        \"samples\": [\n          \"2023-09-02 00:00:00\",\n          \"2023-09-04 00:00:00\",\n          \"2023-09-01 00:00:00\"\n        ],\n        \"semantic_type\": \"\",\n        \"description\": \"\"\n      }\n    },\n    {\n      \"column\": \"DepartureTime\",\n      \"properties\": {\n        \"dtype\": \"object\",\n        \"num_unique_values\": 9,\n        \"samples\": [\n          \"12:30\",\n          \"13:15\",\n          \"13:00\"\n        ],\n        \"semantic_type\": \"\",\n        \"description\": \"\"\n      }\n    },\n    {\n      \"column\": \"ArrivalDate\",\n      \"properties\": {\n        \"dtype\": \"date\",\n        \"min\": \"2023-09-01 00:00:00\",\n        \"max\": \"2023-09-04 00:00:00\",\n        \"num_unique_values\": 4,\n        \"samples\": [\n          \"2023-09-02 00:00:00\",\n          \"2023-09-04 00:00:00\",\n          \"2023-09-01 00:00:00\"\n        ],\n        \"semantic_type\": \"\",\n        \"description\": \"\"\n      }\n    },\n    {\n      \"column\": \"ArrivalTime\",\n      \"properties\": {\n        \"dtype\": \"object\",\n        \"num_unique_values\": 9,\n        \"samples\": [\n          \"14:40\",\n          \"15:30\",\n          \"17:20\"\n        ],\n        \"semantic_type\": \"\",\n        \"description\": \"\"\n      }\n    },\n    {\n      \"column\": \"Airline\",\n      \"properties\": {\n        \"dtype\": \"category\",\n        \"num_unique_values\": 3,\n        \"samples\": [\n          \"American Airlines\",\n          \"Delta\",\n          \"United Airlines\"\n        ],\n        \"semantic_type\": \"\",\n        \"description\": \"\"\n      }\n    },\n    {\n      \"column\": \"DelayMinutes\",\n      \"properties\": {\n        \"dtype\": \"number\",\n        \"std\": 15.542924164470842,\n        \"min\": 5.0,\n        \"max\": 60.0,\n        \"num_unique_values\": 9,\n        \"samples\": [\n          10.0,\n          5.0,\n          20.0\n        ],\n        \"semantic_type\": \"\",\n        \"description\": \"\"\n      }\n    }\n  ]\n}",
              "type": "dataframe",
              "variable_name": "df"
            },
            "text/html": [
              "\n",
              "  <div id=\"df-70db2835-a3ac-4626-ac6d-ab7c3911f45c\" class=\"colab-df-container\">\n",
              "    <div>\n",
              "<style scoped>\n",
              "    .dataframe tbody tr th:only-of-type {\n",
              "        vertical-align: middle;\n",
              "    }\n",
              "\n",
              "    .dataframe tbody tr th {\n",
              "        vertical-align: top;\n",
              "    }\n",
              "\n",
              "    .dataframe thead th {\n",
              "        text-align: right;\n",
              "    }\n",
              "</style>\n",
              "<table border=\"1\" class=\"dataframe\">\n",
              "  <thead>\n",
              "    <tr style=\"text-align: right;\">\n",
              "      <th></th>\n",
              "      <th>FlightNumber</th>\n",
              "      <th>DepartureDate</th>\n",
              "      <th>DepartureTime</th>\n",
              "      <th>ArrivalDate</th>\n",
              "      <th>ArrivalTime</th>\n",
              "      <th>Airline</th>\n",
              "      <th>DelayMinutes</th>\n",
              "    </tr>\n",
              "  </thead>\n",
              "  <tbody>\n",
              "    <tr>\n",
              "      <th>0</th>\n",
              "      <td>AA1234</td>\n",
              "      <td>2023-09-01</td>\n",
              "      <td>08:30</td>\n",
              "      <td>2023-09-01</td>\n",
              "      <td>10:45</td>\n",
              "      <td>American Airlines</td>\n",
              "      <td>15.000000</td>\n",
              "    </tr>\n",
              "    <tr>\n",
              "      <th>1</th>\n",
              "      <td>DL5678</td>\n",
              "      <td>2023-09-01</td>\n",
              "      <td>13:15</td>\n",
              "      <td>2023-09-01</td>\n",
              "      <td>15:30</td>\n",
              "      <td>Delta</td>\n",
              "      <td>5.000000</td>\n",
              "    </tr>\n",
              "    <tr>\n",
              "      <th>2</th>\n",
              "      <td>UA9101</td>\n",
              "      <td>2023-09-01</td>\n",
              "      <td>17:00</td>\n",
              "      <td>2023-09-01</td>\n",
              "      <td>19:15</td>\n",
              "      <td>United Airlines</td>\n",
              "      <td>25.000000</td>\n",
              "    </tr>\n",
              "    <tr>\n",
              "      <th>3</th>\n",
              "      <td>AA1234</td>\n",
              "      <td>2023-09-01</td>\n",
              "      <td>08:30</td>\n",
              "      <td>2023-09-01</td>\n",
              "      <td>22:45</td>\n",
              "      <td>American Airlines</td>\n",
              "      <td>30.000000</td>\n",
              "    </tr>\n",
              "    <tr>\n",
              "      <th>4</th>\n",
              "      <td>DL5678</td>\n",
              "      <td>2023-09-02</td>\n",
              "      <td>14:00</td>\n",
              "      <td>2023-09-02</td>\n",
              "      <td>16:10</td>\n",
              "      <td>Delta</td>\n",
              "      <td>13.333333</td>\n",
              "    </tr>\n",
              "  </tbody>\n",
              "</table>\n",
              "</div>\n",
              "    <div class=\"colab-df-buttons\">\n",
              "\n",
              "  <div class=\"colab-df-container\">\n",
              "    <button class=\"colab-df-convert\" onclick=\"convertToInteractive('df-70db2835-a3ac-4626-ac6d-ab7c3911f45c')\"\n",
              "            title=\"Convert this dataframe to an interactive table.\"\n",
              "            style=\"display:none;\">\n",
              "\n",
              "  <svg xmlns=\"http://www.w3.org/2000/svg\" height=\"24px\" viewBox=\"0 -960 960 960\">\n",
              "    <path d=\"M120-120v-720h720v720H120Zm60-500h600v-160H180v160Zm220 220h160v-160H400v160Zm0 220h160v-160H400v160ZM180-400h160v-160H180v160Zm440 0h160v-160H620v160ZM180-180h160v-160H180v160Zm440 0h160v-160H620v160Z\"/>\n",
              "  </svg>\n",
              "    </button>\n",
              "\n",
              "  <style>\n",
              "    .colab-df-container {\n",
              "      display:flex;\n",
              "      gap: 12px;\n",
              "    }\n",
              "\n",
              "    .colab-df-convert {\n",
              "      background-color: #E8F0FE;\n",
              "      border: none;\n",
              "      border-radius: 50%;\n",
              "      cursor: pointer;\n",
              "      display: none;\n",
              "      fill: #1967D2;\n",
              "      height: 32px;\n",
              "      padding: 0 0 0 0;\n",
              "      width: 32px;\n",
              "    }\n",
              "\n",
              "    .colab-df-convert:hover {\n",
              "      background-color: #E2EBFA;\n",
              "      box-shadow: 0px 1px 2px rgba(60, 64, 67, 0.3), 0px 1px 3px 1px rgba(60, 64, 67, 0.15);\n",
              "      fill: #174EA6;\n",
              "    }\n",
              "\n",
              "    .colab-df-buttons div {\n",
              "      margin-bottom: 4px;\n",
              "    }\n",
              "\n",
              "    [theme=dark] .colab-df-convert {\n",
              "      background-color: #3B4455;\n",
              "      fill: #D2E3FC;\n",
              "    }\n",
              "\n",
              "    [theme=dark] .colab-df-convert:hover {\n",
              "      background-color: #434B5C;\n",
              "      box-shadow: 0px 1px 3px 1px rgba(0, 0, 0, 0.15);\n",
              "      filter: drop-shadow(0px 1px 2px rgba(0, 0, 0, 0.3));\n",
              "      fill: #FFFFFF;\n",
              "    }\n",
              "  </style>\n",
              "\n",
              "    <script>\n",
              "      const buttonEl =\n",
              "        document.querySelector('#df-70db2835-a3ac-4626-ac6d-ab7c3911f45c button.colab-df-convert');\n",
              "      buttonEl.style.display =\n",
              "        google.colab.kernel.accessAllowed ? 'block' : 'none';\n",
              "\n",
              "      async function convertToInteractive(key) {\n",
              "        const element = document.querySelector('#df-70db2835-a3ac-4626-ac6d-ab7c3911f45c');\n",
              "        const dataTable =\n",
              "          await google.colab.kernel.invokeFunction('convertToInteractive',\n",
              "                                                    [key], {});\n",
              "        if (!dataTable) return;\n",
              "\n",
              "        const docLinkHtml = 'Like what you see? Visit the ' +\n",
              "          '<a target=\"_blank\" href=https://colab.research.google.com/notebooks/data_table.ipynb>data table notebook</a>'\n",
              "          + ' to learn more about interactive tables.';\n",
              "        element.innerHTML = '';\n",
              "        dataTable['output_type'] = 'display_data';\n",
              "        await google.colab.output.renderOutput(dataTable, element);\n",
              "        const docLink = document.createElement('div');\n",
              "        docLink.innerHTML = docLinkHtml;\n",
              "        element.appendChild(docLink);\n",
              "      }\n",
              "    </script>\n",
              "  </div>\n",
              "\n",
              "\n",
              "<div id=\"df-ca1dc7cc-448a-493a-b3c3-f6ac6ab1c20e\">\n",
              "  <button class=\"colab-df-quickchart\" onclick=\"quickchart('df-ca1dc7cc-448a-493a-b3c3-f6ac6ab1c20e')\"\n",
              "            title=\"Suggest charts\"\n",
              "            style=\"display:none;\">\n",
              "\n",
              "<svg xmlns=\"http://www.w3.org/2000/svg\" height=\"24px\"viewBox=\"0 0 24 24\"\n",
              "     width=\"24px\">\n",
              "    <g>\n",
              "        <path d=\"M19 3H5c-1.1 0-2 .9-2 2v14c0 1.1.9 2 2 2h14c1.1 0 2-.9 2-2V5c0-1.1-.9-2-2-2zM9 17H7v-7h2v7zm4 0h-2V7h2v10zm4 0h-2v-4h2v4z\"/>\n",
              "    </g>\n",
              "</svg>\n",
              "  </button>\n",
              "\n",
              "<style>\n",
              "  .colab-df-quickchart {\n",
              "      --bg-color: #E8F0FE;\n",
              "      --fill-color: #1967D2;\n",
              "      --hover-bg-color: #E2EBFA;\n",
              "      --hover-fill-color: #174EA6;\n",
              "      --disabled-fill-color: #AAA;\n",
              "      --disabled-bg-color: #DDD;\n",
              "  }\n",
              "\n",
              "  [theme=dark] .colab-df-quickchart {\n",
              "      --bg-color: #3B4455;\n",
              "      --fill-color: #D2E3FC;\n",
              "      --hover-bg-color: #434B5C;\n",
              "      --hover-fill-color: #FFFFFF;\n",
              "      --disabled-bg-color: #3B4455;\n",
              "      --disabled-fill-color: #666;\n",
              "  }\n",
              "\n",
              "  .colab-df-quickchart {\n",
              "    background-color: var(--bg-color);\n",
              "    border: none;\n",
              "    border-radius: 50%;\n",
              "    cursor: pointer;\n",
              "    display: none;\n",
              "    fill: var(--fill-color);\n",
              "    height: 32px;\n",
              "    padding: 0;\n",
              "    width: 32px;\n",
              "  }\n",
              "\n",
              "  .colab-df-quickchart:hover {\n",
              "    background-color: var(--hover-bg-color);\n",
              "    box-shadow: 0 1px 2px rgba(60, 64, 67, 0.3), 0 1px 3px 1px rgba(60, 64, 67, 0.15);\n",
              "    fill: var(--button-hover-fill-color);\n",
              "  }\n",
              "\n",
              "  .colab-df-quickchart-complete:disabled,\n",
              "  .colab-df-quickchart-complete:disabled:hover {\n",
              "    background-color: var(--disabled-bg-color);\n",
              "    fill: var(--disabled-fill-color);\n",
              "    box-shadow: none;\n",
              "  }\n",
              "\n",
              "  .colab-df-spinner {\n",
              "    border: 2px solid var(--fill-color);\n",
              "    border-color: transparent;\n",
              "    border-bottom-color: var(--fill-color);\n",
              "    animation:\n",
              "      spin 1s steps(1) infinite;\n",
              "  }\n",
              "\n",
              "  @keyframes spin {\n",
              "    0% {\n",
              "      border-color: transparent;\n",
              "      border-bottom-color: var(--fill-color);\n",
              "      border-left-color: var(--fill-color);\n",
              "    }\n",
              "    20% {\n",
              "      border-color: transparent;\n",
              "      border-left-color: var(--fill-color);\n",
              "      border-top-color: var(--fill-color);\n",
              "    }\n",
              "    30% {\n",
              "      border-color: transparent;\n",
              "      border-left-color: var(--fill-color);\n",
              "      border-top-color: var(--fill-color);\n",
              "      border-right-color: var(--fill-color);\n",
              "    }\n",
              "    40% {\n",
              "      border-color: transparent;\n",
              "      border-right-color: var(--fill-color);\n",
              "      border-top-color: var(--fill-color);\n",
              "    }\n",
              "    60% {\n",
              "      border-color: transparent;\n",
              "      border-right-color: var(--fill-color);\n",
              "    }\n",
              "    80% {\n",
              "      border-color: transparent;\n",
              "      border-right-color: var(--fill-color);\n",
              "      border-bottom-color: var(--fill-color);\n",
              "    }\n",
              "    90% {\n",
              "      border-color: transparent;\n",
              "      border-bottom-color: var(--fill-color);\n",
              "    }\n",
              "  }\n",
              "</style>\n",
              "\n",
              "  <script>\n",
              "    async function quickchart(key) {\n",
              "      const quickchartButtonEl =\n",
              "        document.querySelector('#' + key + ' button');\n",
              "      quickchartButtonEl.disabled = true;  // To prevent multiple clicks.\n",
              "      quickchartButtonEl.classList.add('colab-df-spinner');\n",
              "      try {\n",
              "        const charts = await google.colab.kernel.invokeFunction(\n",
              "            'suggestCharts', [key], {});\n",
              "      } catch (error) {\n",
              "        console.error('Error during call to suggestCharts:', error);\n",
              "      }\n",
              "      quickchartButtonEl.classList.remove('colab-df-spinner');\n",
              "      quickchartButtonEl.classList.add('colab-df-quickchart-complete');\n",
              "    }\n",
              "    (() => {\n",
              "      let quickchartButtonEl =\n",
              "        document.querySelector('#df-ca1dc7cc-448a-493a-b3c3-f6ac6ab1c20e button');\n",
              "      quickchartButtonEl.style.display =\n",
              "        google.colab.kernel.accessAllowed ? 'block' : 'none';\n",
              "    })();\n",
              "  </script>\n",
              "</div>\n",
              "\n",
              "    </div>\n",
              "  </div>\n"
            ],
            "text/plain": [
              "  FlightNumber DepartureDate DepartureTime ArrivalDate ArrivalTime  \\\n",
              "0       AA1234    2023-09-01         08:30  2023-09-01       10:45   \n",
              "1       DL5678    2023-09-01         13:15  2023-09-01       15:30   \n",
              "2       UA9101    2023-09-01         17:00  2023-09-01       19:15   \n",
              "3       AA1234    2023-09-01         08:30  2023-09-01       22:45   \n",
              "4       DL5678    2023-09-02         14:00  2023-09-02       16:10   \n",
              "\n",
              "             Airline  DelayMinutes  \n",
              "0  American Airlines     15.000000  \n",
              "1              Delta      5.000000  \n",
              "2    United Airlines     25.000000  \n",
              "3  American Airlines     30.000000  \n",
              "4              Delta     13.333333  "
            ]
          },
          "execution_count": 16,
          "metadata": {},
          "output_type": "execute_result"
        }
      ],
      "source": [
        "df['DelayMinutes'] = pd.to_numeric(df['DelayMinutes'], errors='coerce')\n",
        "\n",
        "mean_delays_by_group = df.groupby(['Airline', 'FlightNumber'])['DelayMinutes'].transform('mean')\n",
        "\n",
        "df['DelayMinutes'].fillna(mean_delays_by_group, inplace=True)\n",
        "\n",
        "df.head()"
      ]
    },
    {
      "cell_type": "code",
      "execution_count": 17,
      "metadata": {
        "colab": {
          "base_uri": "https://localhost:8080/",
          "height": 452
        },
        "id": "45N2w8DGBlxJ",
        "outputId": "10cafde5-d380-4410-f4ed-a69f3222b615"
      },
      "outputs": [
        {
          "data": {
            "image/png": "[encoded data removed]",
            "text/plain": [
              "<Figure size 640x480 with 1 Axes>"
            ]
          },
          "metadata": {},
          "output_type": "display_data"
        }
      ],
      "source": [
        "from matplotlib import pyplot as plt\n",
        "\n",
        "df['DelayMinutes'].plot(kind='hist', bins=20, title='DelayMinutes', color='seagreen')\n",
        "plt.gca().spines[['top', 'right']].set_visible(False)\n",
        "plt.show()\n",
        "\n"
      ]
    },
    {
      "cell_type": "code",
      "execution_count": null,
      "metadata": {
        "id": "4G4rnGiXVUQy"
      },
      "outputs": [],
      "source": []
    },
    {
      "cell_type": "code",
      "execution_count": 18,
      "metadata": {
        "colab": {
          "base_uri": "https://localhost:8080/",
          "height": 382
        },
        "id": "pJGcvb0dBc0h",
        "outputId": "66591716-848f-4ad4-b3c1-cc99dcb4c09b"
      },
      "outputs": [
        {
          "data": {
            "image/png": "[encoded data removed]",
            "text/plain": [
              "<Figure size 1000x520 with 1 Axes>"
            ]
          },
          "metadata": {},
          "output_type": "display_data"
        }
      ],
      "source": [
        "# @title DepartureDate vs DelayMinutes\n",
        "\n",
        "from matplotlib import pyplot as plt\n",
        "import seaborn as sns\n",
        "def _plot_series(series, series_name, series_index=0):\n",
        "  palette = list(sns.palettes.mpl_palette('Dark2'))\n",
        "  xs = series['DepartureDate']\n",
        "  ys = series['DelayMinutes']\n",
        "\n",
        "  plt.plot(xs, ys, label=series_name, color=palette[series_index % len(palette)])\n",
        "\n",
        "fig, ax = plt.subplots(figsize=(10, 5.2), layout='constrained')\n",
        "df_sorted = df.sort_values('DepartureDate', ascending=True)\n",
        "for i, (series_name, series) in enumerate(df_sorted.groupby('FlightNumber')):\n",
        "  _plot_series(series, series_name, i)\n",
        "  fig.legend(title='FlightNumber', bbox_to_anchor=(1, 1), loc='upper left')\n",
        "sns.despine(fig=fig, ax=ax)\n",
        "plt.xlabel('DepartureDate')\n",
        "_ = plt.ylabel('DelayMinutes')"
      ]
    },
    {
      "cell_type": "markdown",
      "metadata": {
        "id": "fe7qOH97CXtK"
      },
      "source": [
        "groupby(['Airline', 'FlightNumber'])['DelayMinutes'].transform('mean'):\n",
        "\n",
        "This groups the data by both Airline and FlightNumber and calculates the mean delay for each group.\n",
        "The transform method allows us to return the same number of rows as the original DataFrame, making it easy to fill missing values for each respective row.\n",
        "fillna(mean_delays_by_group, inplace=True):\n",
        "\n",
        "\n",
        "This fills the NaN values in the DelayMinutes column with the calculated group mean delays for the same airline and flight route.\n",
        "This method ensures that the missing delay times are imputed based on the relevant airline and flight route, making the data more accurate and specific."
      ]
    },
    {
      "cell_type": "markdown",
      "metadata": {
        "id": "HxwFhEFkCqZr"
      },
      "source": [
        "# Duplicate Flight Entries:\n",
        "\n",
        "i. There are duplicate entries for some flights which may need to be addressed."
      ]
    },
    {
      "cell_type": "code",
      "execution_count": 19,
      "metadata": {
        "colab": {
          "base_uri": "https://localhost:8080/",
          "height": 258
        },
        "id": "UTHig1P9Ccvx",
        "outputId": "5b2b932b-2f48-46c1-8984-55a0d145d9b5"
      },
      "outputs": [
        {
          "data": {
            "application/vnd.google.colaboratory.intrinsic+json": {
              "summary": "{\n  \"name\": \"df\",\n  \"rows\": 12,\n  \"fields\": [\n    {\n      \"column\": \"FlightNumber\",\n      \"properties\": {\n        \"dtype\": \"category\",\n        \"num_unique_values\": 3,\n        \"samples\": [\n          \"AA1234\",\n          \"DL5678\",\n          \"UA9101\"\n        ],\n        \"semantic_type\": \"\",\n        \"description\": \"\"\n      }\n    },\n    {\n      \"column\": \"DepartureDate\",\n      \"properties\": {\n        \"dtype\": \"date\",\n        \"min\": \"2023-09-01 00:00:00\",\n        \"max\": \"2023-09-04 00:00:00\",\n        \"num_unique_values\": 4,\n        \"samples\": [\n          \"2023-09-02 00:00:00\",\n          \"2023-09-04 00:00:00\",\n          \"2023-09-01 00:00:00\"\n        ],\n        \"semantic_type\": \"\",\n        \"description\": \"\"\n      }\n    },\n    {\n      \"column\": \"DepartureTime\",\n      \"properties\": {\n        \"dtype\": \"object\",\n        \"num_unique_values\": 9,\n        \"samples\": [\n          \"12:30\",\n          \"13:15\",\n          \"13:00\"\n        ],\n        \"semantic_type\": \"\",\n        \"description\": \"\"\n      }\n    },\n    {\n      \"column\": \"ArrivalDate\",\n      \"properties\": {\n        \"dtype\": \"date\",\n        \"min\": \"2023-09-01 00:00:00\",\n        \"max\": \"2023-09-04 00:00:00\",\n        \"num_unique_values\": 4,\n        \"samples\": [\n          \"2023-09-02 00:00:00\",\n          \"2023-09-04 00:00:00\",\n          \"2023-09-01 00:00:00\"\n        ],\n        \"semantic_type\": \"\",\n        \"description\": \"\"\n      }\n    },\n    {\n      \"column\": \"ArrivalTime\",\n      \"properties\": {\n        \"dtype\": \"object\",\n        \"num_unique_values\": 9,\n        \"samples\": [\n          \"14:40\",\n          \"15:30\",\n          \"17:20\"\n        ],\n        \"semantic_type\": \"\",\n        \"description\": \"\"\n      }\n    },\n    {\n      \"column\": \"Airline\",\n      \"properties\": {\n        \"dtype\": \"category\",\n        \"num_unique_values\": 3,\n        \"samples\": [\n          \"American Airlines\",\n          \"Delta\",\n          \"United Airlines\"\n        ],\n        \"semantic_type\": \"\",\n        \"description\": \"\"\n      }\n    },\n    {\n      \"column\": \"DelayMinutes\",\n      \"properties\": {\n        \"dtype\": \"number\",\n        \"std\": 15.542924164470842,\n        \"min\": 5.0,\n        \"max\": 60.0,\n        \"num_unique_values\": 9,\n        \"samples\": [\n          10.0,\n          5.0,\n          20.0\n        ],\n        \"semantic_type\": \"\",\n        \"description\": \"\"\n      }\n    }\n  ]\n}",
              "type": "dataframe",
              "variable_name": "df"
            },
            "text/html": [
              "\n",
              "  <div id=\"df-c272a0f9-119b-4c6c-8f1c-c0b1c2900c28\" class=\"colab-df-container\">\n",
              "    <div>\n",
              "<style scoped>\n",
              "    .dataframe tbody tr th:only-of-type {\n",
              "        vertical-align: middle;\n",
              "    }\n",
              "\n",
              "    .dataframe tbody tr th {\n",
              "        vertical-align: top;\n",
              "    }\n",
              "\n",
              "    .dataframe thead th {\n",
              "        text-align: right;\n",
              "    }\n",
              "</style>\n",
              "<table border=\"1\" class=\"dataframe\">\n",
              "  <thead>\n",
              "    <tr style=\"text-align: right;\">\n",
              "      <th></th>\n",
              "      <th>FlightNumber</th>\n",
              "      <th>DepartureDate</th>\n",
              "      <th>DepartureTime</th>\n",
              "      <th>ArrivalDate</th>\n",
              "      <th>ArrivalTime</th>\n",
              "      <th>Airline</th>\n",
              "      <th>DelayMinutes</th>\n",
              "    </tr>\n",
              "  </thead>\n",
              "  <tbody>\n",
              "    <tr>\n",
              "      <th>0</th>\n",
              "      <td>AA1234</td>\n",
              "      <td>2023-09-01</td>\n",
              "      <td>08:30</td>\n",
              "      <td>2023-09-01</td>\n",
              "      <td>10:45</td>\n",
              "      <td>American Airlines</td>\n",
              "      <td>15.000000</td>\n",
              "    </tr>\n",
              "    <tr>\n",
              "      <th>1</th>\n",
              "      <td>DL5678</td>\n",
              "      <td>2023-09-01</td>\n",
              "      <td>13:15</td>\n",
              "      <td>2023-09-01</td>\n",
              "      <td>15:30</td>\n",
              "      <td>Delta</td>\n",
              "      <td>5.000000</td>\n",
              "    </tr>\n",
              "    <tr>\n",
              "      <th>2</th>\n",
              "      <td>UA9101</td>\n",
              "      <td>2023-09-01</td>\n",
              "      <td>17:00</td>\n",
              "      <td>2023-09-01</td>\n",
              "      <td>19:15</td>\n",
              "      <td>United Airlines</td>\n",
              "      <td>25.000000</td>\n",
              "    </tr>\n",
              "    <tr>\n",
              "      <th>3</th>\n",
              "      <td>AA1234</td>\n",
              "      <td>2023-09-01</td>\n",
              "      <td>08:30</td>\n",
              "      <td>2023-09-01</td>\n",
              "      <td>22:45</td>\n",
              "      <td>American Airlines</td>\n",
              "      <td>30.000000</td>\n",
              "    </tr>\n",
              "    <tr>\n",
              "      <th>4</th>\n",
              "      <td>DL5678</td>\n",
              "      <td>2023-09-02</td>\n",
              "      <td>14:00</td>\n",
              "      <td>2023-09-02</td>\n",
              "      <td>16:10</td>\n",
              "      <td>Delta</td>\n",
              "      <td>13.333333</td>\n",
              "    </tr>\n",
              "  </tbody>\n",
              "</table>\n",
              "</div>\n",
              "    <div class=\"colab-df-buttons\">\n",
              "\n",
              "  <div class=\"colab-df-container\">\n",
              "    <button class=\"colab-df-convert\" onclick=\"convertToInteractive('df-c272a0f9-119b-4c6c-8f1c-c0b1c2900c28')\"\n",
              "            title=\"Convert this dataframe to an interactive table.\"\n",
              "            style=\"display:none;\">\n",
              "\n",
              "  <svg xmlns=\"http://www.w3.org/2000/svg\" height=\"24px\" viewBox=\"0 -960 960 960\">\n",
              "    <path d=\"M120-120v-720h720v720H120Zm60-500h600v-160H180v160Zm220 220h160v-160H400v160Zm0 220h160v-160H400v160ZM180-400h160v-160H180v160Zm440 0h160v-160H620v160ZM180-180h160v-160H180v160Zm440 0h160v-160H620v160Z\"/>\n",
              "  </svg>\n",
              "    </button>\n",
              "\n",
              "  <style>\n",
              "    .colab-df-container {\n",
              "      display:flex;\n",
              "      gap: 12px;\n",
              "    }\n",
              "\n",
              "    .colab-df-convert {\n",
              "      background-color: #E8F0FE;\n",
              "      border: none;\n",
              "      border-radius: 50%;\n",
              "      cursor: pointer;\n",
              "      display: none;\n",
              "      fill: #1967D2;\n",
              "      height: 32px;\n",
              "      padding: 0 0 0 0;\n",
              "      width: 32px;\n",
              "    }\n",
              "\n",
              "    .colab-df-convert:hover {\n",
              "      background-color: #E2EBFA;\n",
              "      box-shadow: 0px 1px 2px rgba(60, 64, 67, 0.3), 0px 1px 3px 1px rgba(60, 64, 67, 0.15);\n",
              "      fill: #174EA6;\n",
              "    }\n",
              "\n",
              "    .colab-df-buttons div {\n",
              "      margin-bottom: 4px;\n",
              "    }\n",
              "\n",
              "    [theme=dark] .colab-df-convert {\n",
              "      background-color: #3B4455;\n",
              "      fill: #D2E3FC;\n",
              "    }\n",
              "\n",
              "    [theme=dark] .colab-df-convert:hover {\n",
              "      background-color: #434B5C;\n",
              "      box-shadow: 0px 1px 3px 1px rgba(0, 0, 0, 0.15);\n",
              "      filter: drop-shadow(0px 1px 2px rgba(0, 0, 0, 0.3));\n",
              "      fill: #FFFFFF;\n",
              "    }\n",
              "  </style>\n",
              "\n",
              "    <script>\n",
              "      const buttonEl =\n",
              "        document.querySelector('#df-c272a0f9-119b-4c6c-8f1c-c0b1c2900c28 button.colab-df-convert');\n",
              "      buttonEl.style.display =\n",
              "        google.colab.kernel.accessAllowed ? 'block' : 'none';\n",
              "\n",
              "      async function convertToInteractive(key) {\n",
              "        const element = document.querySelector('#df-c272a0f9-119b-4c6c-8f1c-c0b1c2900c28');\n",
              "        const dataTable =\n",
              "          await google.colab.kernel.invokeFunction('convertToInteractive',\n",
              "                                                    [key], {});\n",
              "        if (!dataTable) return;\n",
              "\n",
              "        const docLinkHtml = 'Like what you see? Visit the ' +\n",
              "          '<a target=\"_blank\" href=https://colab.research.google.com/notebooks/data_table.ipynb>data table notebook</a>'\n",
              "          + ' to learn more about interactive tables.';\n",
              "        element.innerHTML = '';\n",
              "        dataTable['output_type'] = 'display_data';\n",
              "        await google.colab.output.renderOutput(dataTable, element);\n",
              "        const docLink = document.createElement('div');\n",
              "        docLink.innerHTML = docLinkHtml;\n",
              "        element.appendChild(docLink);\n",
              "      }\n",
              "    </script>\n",
              "  </div>\n",
              "\n",
              "\n",
              "<div id=\"df-964a1c7c-551e-423d-a4a1-1e9cba5d0b71\">\n",
              "  <button class=\"colab-df-quickchart\" onclick=\"quickchart('df-964a1c7c-551e-423d-a4a1-1e9cba5d0b71')\"\n",
              "            title=\"Suggest charts\"\n",
              "            style=\"display:none;\">\n",
              "\n",
              "<svg xmlns=\"http://www.w3.org/2000/svg\" height=\"24px\"viewBox=\"0 0 24 24\"\n",
              "     width=\"24px\">\n",
              "    <g>\n",
              "        <path d=\"M19 3H5c-1.1 0-2 .9-2 2v14c0 1.1.9 2 2 2h14c1.1 0 2-.9 2-2V5c0-1.1-.9-2-2-2zM9 17H7v-7h2v7zm4 0h-2V7h2v10zm4 0h-2v-4h2v4z\"/>\n",
              "    </g>\n",
              "</svg>\n",
              "  </button>\n",
              "\n",
              "<style>\n",
              "  .colab-df-quickchart {\n",
              "      --bg-color: #E8F0FE;\n",
              "      --fill-color: #1967D2;\n",
              "      --hover-bg-color: #E2EBFA;\n",
              "      --hover-fill-color: #174EA6;\n",
              "      --disabled-fill-color: #AAA;\n",
              "      --disabled-bg-color: #DDD;\n",
              "  }\n",
              "\n",
              "  [theme=dark] .colab-df-quickchart {\n",
              "      --bg-color: #3B4455;\n",
              "      --fill-color: #D2E3FC;\n",
              "      --hover-bg-color: #434B5C;\n",
              "      --hover-fill-color: #FFFFFF;\n",
              "      --disabled-bg-color: #3B4455;\n",
              "      --disabled-fill-color: #666;\n",
              "  }\n",
              "\n",
              "  .colab-df-quickchart {\n",
              "    background-color: var(--bg-color);\n",
              "    border: none;\n",
              "    border-radius: 50%;\n",
              "    cursor: pointer;\n",
              "    display: none;\n",
              "    fill: var(--fill-color);\n",
              "    height: 32px;\n",
              "    padding: 0;\n",
              "    width: 32px;\n",
              "  }\n",
              "\n",
              "  .colab-df-quickchart:hover {\n",
              "    background-color: var(--hover-bg-color);\n",
              "    box-shadow: 0 1px 2px rgba(60, 64, 67, 0.3), 0 1px 3px 1px rgba(60, 64, 67, 0.15);\n",
              "    fill: var(--button-hover-fill-color);\n",
              "  }\n",
              "\n",
              "  .colab-df-quickchart-complete:disabled,\n",
              "  .colab-df-quickchart-complete:disabled:hover {\n",
              "    background-color: var(--disabled-bg-color);\n",
              "    fill: var(--disabled-fill-color);\n",
              "    box-shadow: none;\n",
              "  }\n",
              "\n",
              "  .colab-df-spinner {\n",
              "    border: 2px solid var(--fill-color);\n",
              "    border-color: transparent;\n",
              "    border-bottom-color: var(--fill-color);\n",
              "    animation:\n",
              "      spin 1s steps(1) infinite;\n",
              "  }\n",
              "\n",
              "  @keyframes spin {\n",
              "    0% {\n",
              "      border-color: transparent;\n",
              "      border-bottom-color: var(--fill-color);\n",
              "      border-left-color: var(--fill-color);\n",
              "    }\n",
              "    20% {\n",
              "      border-color: transparent;\n",
              "      border-left-color: var(--fill-color);\n",
              "      border-top-color: var(--fill-color);\n",
              "    }\n",
              "    30% {\n",
              "      border-color: transparent;\n",
              "      border-left-color: var(--fill-color);\n",
              "      border-top-color: var(--fill-color);\n",
              "      border-right-color: var(--fill-color);\n",
              "    }\n",
              "    40% {\n",
              "      border-color: transparent;\n",
              "      border-right-color: var(--fill-color);\n",
              "      border-top-color: var(--fill-color);\n",
              "    }\n",
              "    60% {\n",
              "      border-color: transparent;\n",
              "      border-right-color: var(--fill-color);\n",
              "    }\n",
              "    80% {\n",
              "      border-color: transparent;\n",
              "      border-right-color: var(--fill-color);\n",
              "      border-bottom-color: var(--fill-color);\n",
              "    }\n",
              "    90% {\n",
              "      border-color: transparent;\n",
              "      border-bottom-color: var(--fill-color);\n",
              "    }\n",
              "  }\n",
              "</style>\n",
              "\n",
              "  <script>\n",
              "    async function quickchart(key) {\n",
              "      const quickchartButtonEl =\n",
              "        document.querySelector('#' + key + ' button');\n",
              "      quickchartButtonEl.disabled = true;  // To prevent multiple clicks.\n",
              "      quickchartButtonEl.classList.add('colab-df-spinner');\n",
              "      try {\n",
              "        const charts = await google.colab.kernel.invokeFunction(\n",
              "            'suggestCharts', [key], {});\n",
              "      } catch (error) {\n",
              "        console.error('Error during call to suggestCharts:', error);\n",
              "      }\n",
              "      quickchartButtonEl.classList.remove('colab-df-spinner');\n",
              "      quickchartButtonEl.classList.add('colab-df-quickchart-complete');\n",
              "    }\n",
              "    (() => {\n",
              "      let quickchartButtonEl =\n",
              "        document.querySelector('#df-964a1c7c-551e-423d-a4a1-1e9cba5d0b71 button');\n",
              "      quickchartButtonEl.style.display =\n",
              "        google.colab.kernel.accessAllowed ? 'block' : 'none';\n",
              "    })();\n",
              "  </script>\n",
              "</div>\n",
              "\n",
              "    </div>\n",
              "  </div>\n"
            ],
            "text/plain": [
              "  FlightNumber DepartureDate DepartureTime ArrivalDate ArrivalTime  \\\n",
              "0       AA1234    2023-09-01         08:30  2023-09-01       10:45   \n",
              "1       DL5678    2023-09-01         13:15  2023-09-01       15:30   \n",
              "2       UA9101    2023-09-01         17:00  2023-09-01       19:15   \n",
              "3       AA1234    2023-09-01         08:30  2023-09-01       22:45   \n",
              "4       DL5678    2023-09-02         14:00  2023-09-02       16:10   \n",
              "\n",
              "             Airline  DelayMinutes  \n",
              "0  American Airlines     15.000000  \n",
              "1              Delta      5.000000  \n",
              "2    United Airlines     25.000000  \n",
              "3  American Airlines     30.000000  \n",
              "4              Delta     13.333333  "
            ]
          },
          "execution_count": 19,
          "metadata": {},
          "output_type": "execute_result"
        }
      ],
      "source": [
        "df.drop_duplicates(subset=['FlightNumber', 'DepartureDate', 'DepartureTime', 'ArrivalDate', 'ArrivalTime'], inplace=True)\n",
        "df.head()\n"
      ]
    },
    {
      "cell_type": "markdown",
      "metadata": {
        "id": "vKGnAUFsDSUP"
      },
      "source": [
        "Removed duplicate entries based on FlightNumber, DepartureDate, DepartureTime, and ArrivalTime"
      ]
    },
    {
      "cell_type": "markdown",
      "metadata": {
        "id": "Tq44EgT1DaGH"
      },
      "source": [
        "#d. Inconsistent Time Entries:\n",
        "\n",
        "The ArrivalTime for one entry is later than DepartureTime on the same day which might\n",
        "indicate a data error (e.g., AA1234 on 09/01/2023 with a departure at 08:30 AM and\n",
        "arrival at 10:45 PM)."
      ]
    },
    {
      "cell_type": "code",
      "execution_count": 20,
      "metadata": {
        "id": "f89l6WwICu9l"
      },
      "outputs": [],
      "source": [
        "df.loc[df['ArrivalTime'] < df['DepartureTime'], 'ArrivalDate'] += pd.Timedelta(days=1)\n"
      ]
    },
    {
      "cell_type": "markdown",
      "metadata": {
        "id": "1VUxhTwvD_NT"
      },
      "source": [
        "# 2. DATA CLEANING:\n",
        "\n",
        "\n"
      ]
    },
    {
      "cell_type": "markdown",
      "metadata": {
        "id": "80MrLA_aEJ2h"
      },
      "source": [
        "# a. Identify and handle any missing or inconsistent values in the dataset.\n",
        "\n",
        "\n",
        "\n"
      ]
    },
    {
      "cell_type": "code",
      "execution_count": 21,
      "metadata": {
        "colab": {
          "base_uri": "https://localhost:8080/"
        },
        "id": "JybjS-1yD92H",
        "outputId": "c307e0dd-db88-49cb-d6ef-bf76cd73d1a5"
      },
      "outputs": [
        {
          "name": "stdout",
          "output_type": "stream",
          "text": [
            "FlightNumber     0\n",
            "DepartureDate    0\n",
            "DepartureTime    0\n",
            "ArrivalDate      0\n",
            "ArrivalTime      0\n",
            "Airline          0\n",
            "DelayMinutes     0\n",
            "dtype: int64\n"
          ]
        }
      ],
      "source": [
        "\n",
        "print(df.isnull().sum())\n",
        "df[df['DelayMinutes'] < 0]\n",
        "df = df[df['DelayMinutes'] >= 0]\n",
        "\n"
      ]
    },
    {
      "cell_type": "markdown",
      "metadata": {
        "id": "j3YPJeBkI2Qt"
      },
      "source": [
        "## Correct any inconsistencies or errors in times(e.g., arrival time should be later than departure time).\n"
      ]
    },
    {
      "cell_type": "code",
      "execution_count": 22,
      "metadata": {
        "colab": {
          "base_uri": "https://localhost:8080/"
        },
        "id": "8oM82HGRIaDH",
        "outputId": "ae8a1c45-ef92-4040-b467-feee9656ce55"
      },
      "outputs": [
        {
          "name": "stdout",
          "output_type": "stream",
          "text": [
            "  FlightNumber DepartureDate DepartureTime ArrivalDate ArrivalTime  \\\n",
            "0       AA1234    2023-09-01         08:30  2023-09-01       10:45   \n",
            "1       DL5678    2023-09-01         13:15  2023-09-01       15:30   \n",
            "2       UA9101    2023-09-01         17:00  2023-09-01       19:15   \n",
            "3       AA1234    2023-09-01         08:30  2023-09-01       22:45   \n",
            "4       DL5678    2023-09-02         14:00  2023-09-02       16:10   \n",
            "\n",
            "             Airline  DelayMinutes  \n",
            "0  American Airlines     15.000000  \n",
            "1              Delta      5.000000  \n",
            "2    United Airlines     25.000000  \n",
            "3  American Airlines     30.000000  \n",
            "4              Delta     13.333333  \n"
          ]
        }
      ],
      "source": [
        "def swap_am_pm(time_str):\n",
        "    if 'AM' in time_str:\n",
        "        return time_str.replace('AM', 'PM')\n",
        "    elif 'PM' in time_str:\n",
        "        return time_str.replace('PM', 'AM')\n",
        "    else:\n",
        "        return time_str\n",
        "        df.loc[df['ArrivalTime'] < df['DepartureTime'], 'DepartureTime'] = df.loc[data['ArrivalTime'] < data['DepartureTime'], 'DepartureTime'].apply(swap_am_pm)\n",
        "print(df.head())\n"
      ]
    },
    {
      "cell_type": "markdown",
      "metadata": {
        "id": "_wBJwxTdJ1vy"
      },
      "source": [
        "\n",
        "1. Defined a function `swap_am_pm` that switches 'AM' to 'PM'\n",
        "\n",
        "2. Applied this function to the 'DepartureTime' column, but only for rows where 'ArrivalTime' is earlier than 'DepartureTime'.\n",
        "\n",
        "3. This corrects potential AM/PM errors in departure times when they appear to be later than arrival times.\n"
      ]
    },
    {
      "cell_type": "markdown",
      "metadata": {
        "id": "GjgQ6UFoK2vh"
      },
      "source": [
        "## 3. DATA NORMALIZATION:"
      ]
    },
    {
      "cell_type": "markdown",
      "metadata": {
        "id": "iAD7MSavK9PH"
      },
      "source": [
        "# a. Convert DepartureDate and ArrivalDate columns to a standard YYYY-MM-DD format.\n",
        "\n",
        "\n"
      ]
    },
    {
      "cell_type": "code",
      "execution_count": 23,
      "metadata": {
        "colab": {
          "base_uri": "https://localhost:8080/"
        },
        "id": "QLImQ1nLKwaY",
        "outputId": "07fa252a-d366-44ca-9e95-b404205cb726"
      },
      "outputs": [
        {
          "name": "stdout",
          "output_type": "stream",
          "text": [
            "  FlightNumber DepartureDate DepartureTime ArrivalDate ArrivalTime  \\\n",
            "0       AA1234    2023-09-01         08:30  2023-09-01       10:45   \n",
            "1       DL5678    2023-09-01         13:15  2023-09-01       15:30   \n",
            "2       UA9101    2023-09-01         17:00  2023-09-01       19:15   \n",
            "3       AA1234    2023-09-01         08:30  2023-09-01       22:45   \n",
            "4       DL5678    2023-09-02         14:00  2023-09-02       16:10   \n",
            "\n",
            "             Airline  DelayMinutes  \n",
            "0  American Airlines     15.000000  \n",
            "1              Delta      5.000000  \n",
            "2    United Airlines     25.000000  \n",
            "3  American Airlines     30.000000  \n",
            "4              Delta     13.333333  \n"
          ]
        }
      ],
      "source": [
        "\n",
        "df['DepartureDate'] = df['DepartureDate'].dt.strftime('%Y-%m-%d')\n",
        "df['ArrivalDate'] = df['ArrivalDate'].dt.strftime('%Y-%m-%d')\n",
        "\n",
        "print(df.head())\n"
      ]
    },
    {
      "cell_type": "markdown",
      "metadata": {
        "id": "ga3f12ZSLcjc"
      },
      "source": [
        "Convertd DepartureDate and ArrivalDate columns to a standard YYYY-MM-DD format."
      ]
    },
    {
      "cell_type": "markdown",
      "metadata": {
        "id": "L6eB6mDsLsSt"
      },
      "source": [
        "# b. Convert DepartureTime and ArrivalTime columns to a 24-hour time format (e.g., \"08:30\" for 8:30AM)."
      ]
    },
    {
      "cell_type": "code",
      "execution_count": 24,
      "metadata": {
        "colab": {
          "base_uri": "https://localhost:8080/"
        },
        "id": "mdW2aMkwLnFG",
        "outputId": "b9edb34e-27d1-4666-ce6b-d2c325eb0c9a"
      },
      "outputs": [
        {
          "name": "stdout",
          "output_type": "stream",
          "text": [
            "  FlightNumber DepartureDate DepartureTime ArrivalDate ArrivalTime  \\\n",
            "0       AA1234    2023-09-01         08:30  2023-09-01       10:45   \n",
            "1       DL5678    2023-09-01         13:15  2023-09-01       15:30   \n",
            "2       UA9101    2023-09-01         17:00  2023-09-01       19:15   \n",
            "3       AA1234    2023-09-01         08:30  2023-09-01       22:45   \n",
            "4       DL5678    2023-09-02         14:00  2023-09-02       16:10   \n",
            "\n",
            "             Airline  DelayMinutes  \n",
            "0  American Airlines     15.000000  \n",
            "1              Delta      5.000000  \n",
            "2    United Airlines     25.000000  \n",
            "3  American Airlines     30.000000  \n",
            "4              Delta     13.333333  \n"
          ]
        }
      ],
      "source": [
        "\n",
        "from datetime import datetime\n",
        "\n",
        "def convert_to_24hour(time_str):\n",
        "  \"\"\"Converts a time string in HH:MM AM/PM format to 24-hour format.\"\"\"\n",
        "  try:\n",
        "    dt = datetime.strptime(time_str, '%I:%M %p')\n",
        "    return dt.strftime('%H:%M')\n",
        "  except ValueError:\n",
        "    return time_str\n",
        "\n",
        "\n",
        "df['DepartureTime'] = df['DepartureTime'].apply(convert_to_24hour)\n",
        "df['ArrivalTime'] = df['ArrivalTime'].apply(convert_to_24hour)\n",
        "\n",
        "print(df.head())\n"
      ]
    },
    {
      "cell_type": "markdown",
      "metadata": {
        "id": "ekaiwHiyNsdy"
      },
      "source": [
        "# c. Calculate Flight Duration\n"
      ]
    },
    {
      "cell_type": "code",
      "execution_count": 25,
      "metadata": {
        "colab": {
          "base_uri": "https://localhost:8080/"
        },
        "id": "0r7U0ZQaMKGd",
        "outputId": "202926d0-8328-46d5-b9f2-dfc0919b5436"
      },
      "outputs": [
        {
          "name": "stdout",
          "output_type": "stream",
          "text": [
            "  FlightNumber DepartureDate DepartureTime ArrivalDate ArrivalTime  \\\n",
            "0       AA1234    2023-09-01         08:30  2023-09-01       10:45   \n",
            "1       DL5678    2023-09-01         13:15  2023-09-01       15:30   \n",
            "2       UA9101    2023-09-01         17:00  2023-09-01       19:15   \n",
            "3       AA1234    2023-09-01         08:30  2023-09-01       22:45   \n",
            "4       DL5678    2023-09-02         14:00  2023-09-02       16:10   \n",
            "\n",
            "             Airline  DelayMinutes  FlightDurationMinutes  \n",
            "0  American Airlines     15.000000                  135.0  \n",
            "1              Delta      5.000000                  135.0  \n",
            "2    United Airlines     25.000000                  135.0  \n",
            "3  American Airlines     30.000000                  855.0  \n",
            "4              Delta     13.333333                  130.0  \n"
          ]
        }
      ],
      "source": [
        "from datetime import datetime, timedelta\n",
        "\n",
        "def calculate_flight_duration(row):\n",
        "    \"\"\"Calculates flight duration in minutes, accounting for overnight flights.\"\"\"\n",
        "    departure_time = datetime.strptime(row['DepartureTime'], '%H:%M')\n",
        "    arrival_time = datetime.strptime(row['ArrivalTime'], '%H:%M')\n",
        "\n",
        "    if arrival_time < departure_time:\n",
        "        arrival_time += timedelta(days=1)\n",
        "\n",
        "    duration = (arrival_time - departure_time).total_seconds() / 60\n",
        "    return duration\n",
        "\n",
        "df['FlightDurationMinutes'] = df.apply(calculate_flight_duration, axis=1)\n",
        "\n",
        "print(df.head())\n"
      ]
    },
    {
      "cell_type": "code",
      "execution_count": 25,
      "metadata": {
        "id": "czp5o8XPzVDK"
      },
      "outputs": [],
      "source": []
    },
    {
      "cell_type": "markdown",
      "metadata": {
        "id": "mLPPsF8NN2rI"
      },
      "source": [
        "# Step 4: Data Analysis"
      ]
    },
    {
      "cell_type": "markdown",
      "metadata": {
        "id": "GAlzidqUPAhp"
      },
      "source": [
        "# a. Analyze the distribution of delays and identify any trends or patterns."
      ]
    },
    {
      "cell_type": "code",
      "execution_count": 26,
      "metadata": {
        "colab": {
          "base_uri": "https://localhost:8080/",
          "height": 402
        },
        "id": "2YLY6zFeN_uI",
        "outputId": "b0d1aa93-54fa-4ff8-c470-206a7beaf519"
      },
      "outputs": [
        {
          "data": {
            "image/png": "[encoded data removed]",
            "text/plain": [
              "<Figure size 1200x600 with 1 Axes>"
            ]
          },
          "metadata": {},
          "output_type": "display_data"
        }
      ],
      "source": [
        "import matplotlib.pyplot as plt\n",
        "import seaborn as sns\n",
        "sns.set_style(\"whitegrid\")\n",
        "plt.figure(figsize=(12, 6))\n",
        "sns.histplot(df['DelayMinutes'], bins=20, kde=True, color='skyblue', edgecolor='navy')\n",
        "plt.title('Distribution of Flight Delays', fontsize=20, fontweight='bold')\n",
        "plt.xlabel('Delay (Minutes)', fontsize=14)\n",
        "plt.ylabel('Frequency', fontsize=14)\n",
        "stats = f\"Mean: {df['DelayMinutes'].mean():.2f}\\nMedian: {df['DelayMinutes'].median():.2f}\\nStd Dev: {df['DelayMinutes'].std():.2f}\"\n",
        "plt.text(0.95, 0.95, stats, transform=plt.gca().transAxes, verticalalignment='top', horizontalalignment='right',\n",
        "         bbox=dict(boxstyle='round', facecolor='white', alpha=0.8))\n",
        "plt.tight_layout()\n",
        "plt.show()"
      ]
    },
    {
      "cell_type": "markdown",
      "metadata": {
        "id": "P8xJBvSVTgNm"
      },
      "source": [
        "# Based on the histogram of DelayMinutes:\n",
        " 1. The majority of flights have relatively short delays, with the highest frequency falling within the 0-20 minute range.\n",
        " 2. The distribution appears to be right-skewed, indicating that there are some flights with significantly longer delays than others, though they are less frequent.\n",
        "3. The long tail on the right suggests that there might be some outliers or rare cases with very substantial delays.\n",
        "\n",
        "# Insights:\n",
        " - The airline generally performs well, with the bulk of flights experiencing minimal delays.\n",
        " - There are instances of longer delays, which could be due to various factors such as weather, operational issues, or air traffic congestion.\n",
        " - Further analysis, such as looking into the causes of these longer delays, could be valuable for improving operational efficiency and reducing customer inconvenience.\n",
        " - To refine these insights further, considering the correlation of delays with other variables (like airline, flight number, or departure time) might reveal more meaningful patterns.\n",
        "\n",
        " This histogram will show the overall distribution of delays. For instance, if there is a high concentration of short delays (under 30 minutes), but a long tail for larger delays, we may conclude that most flights experience minimal delays, with a few outliers causing significant delays\n"
      ]
    },
    {
      "cell_type": "markdown",
      "metadata": {
        "id": "LJ8_kDYNR05I"
      },
      "source": [
        "# b. Calculate the average delay for each airline."
      ]
    },
    {
      "cell_type": "code",
      "execution_count": 27,
      "metadata": {
        "colab": {
          "base_uri": "https://localhost:8080/",
          "height": 1000
        },
        "id": "mxHZdpi1SIip",
        "outputId": "54b3a664-4f08-4bb1-c9ad-f7e6820315c5"
      },
      "outputs": [
        {
          "name": "stdout",
          "output_type": "stream",
          "text": [
            "Airline\n",
            "American Airlines    30.000000\n",
            "Delta                13.333333\n",
            "United Airlines      30.000000\n",
            "Name: DelayMinutes, dtype: float64\n",
            "Average Delay by Airline and Flight Number:\n",
            " Airline            FlightNumber\n",
            "American Airlines  AA1234          30.000000\n",
            "Delta              DL5678          13.333333\n",
            "United Airlines    UA9101          30.000000\n",
            "Name: DelayMinutes, dtype: float64\n",
            "\n",
            "Average Delay by Departure Hour:\n",
            " DepartureHour\n",
            "8     20.000000\n",
            "12    25.000000\n",
            "13     7.500000\n",
            "14    13.333333\n",
            "15    30.000000\n",
            "17    22.500000\n",
            "19    45.000000\n",
            "20    60.000000\n",
            "Name: DelayMinutes, dtype: float64\n",
            "\n",
            "Average Delay by Day of Week:\n",
            " DayOfWeek\n",
            "0    35.000000\n",
            "4    18.750000\n",
            "5    31.111111\n",
            "6    18.333333\n",
            "Name: DelayMinutes, dtype: float64\n",
            "\n",
            "Average Delay by Month:\n",
            " Month\n",
            "9    24.444444\n",
            "Name: DelayMinutes, dtype: float64\n"
          ]
        },
        {
          "data": {
            "image/png": "[encoded data removed]",
            "text/plain": [
              "<Figure size 1000x500 with 1 Axes>"
            ]
          },
          "metadata": {},
          "output_type": "display_data"
        }
      ],
      "source": [
        "avg_delay_by_airline = df.groupby('Airline')['DelayMinutes'].mean()\n",
        "print(avg_delay_by_airline)\n",
        "\n",
        "avg_delay_by_airline_flight = df.groupby(['Airline', 'FlightNumber'])['DelayMinutes'].mean()\n",
        "print(\"Average Delay by Airline and Flight Number:\\n\", avg_delay_by_airline_flight)\n",
        "\n",
        "df['DepartureHour'] = pd.to_datetime(df['DepartureTime'], format='%H:%M').dt.hour\n",
        "avg_delay_by_hour = df.groupby('DepartureHour')['DelayMinutes'].mean()\n",
        "print(\"\\nAverage Delay by Departure Hour:\\n\", avg_delay_by_hour)\n",
        "\n",
        "\n",
        "df['DayOfWeek'] = pd.to_datetime(df['DepartureDate']).dt.dayofweek\n",
        "avg_delay_by_day = df.groupby('DayOfWeek')['DelayMinutes'].mean()\n",
        "print(\"\\nAverage Delay by Day of Week:\\n\", avg_delay_by_day)\n",
        "\n",
        "\n",
        "df['Month'] = pd.to_datetime(df['DepartureDate']).dt.month\n",
        "avg_delay_by_month = df.groupby('Month')['DelayMinutes'].mean()\n",
        "print(\"\\nAverage Delay by Month:\\n\", avg_delay_by_month)\n",
        "\n",
        "\n",
        "plt.figure(figsize=(10, 5))\n",
        "avg_delay_by_airline.plot(kind='bar', color='skyblue')\n",
        "plt.title('Average Delay by Airline')\n",
        "plt.xlabel('Airline')\n",
        "plt.ylabel('Average Delay (minutes)')\n",
        "plt.xticks(rotation=45, ha='right')\n",
        "plt.tight_layout()\n",
        "plt.show()\n",
        "\n"
      ]
    },
    {
      "cell_type": "markdown",
      "metadata": {
        "id": "7RTGkm4OYu63"
      },
      "source": [
        "**INSIGHTS**\n",
        "\n",
        "If delays increase toward the later hours of the day, it could suggest a cumulative effect where earlier delays push back subsequent flights. This pattern would be important for airlines to address through better schedule management."
      ]
    },
    {
      "cell_type": "markdown",
      "metadata": {
        "id": "e-PNTA4iS4no"
      },
      "source": [
        "# Identify any relationships between flight delays and departure times (e.g., are flights departing later in the day more likely to be delayed)."
      ]
    },
    {
      "cell_type": "code",
      "execution_count": 28,
      "metadata": {
        "colab": {
          "base_uri": "https://localhost:8080/",
          "height": 419
        },
        "id": "cBGgc05MTCoe",
        "outputId": "c6ecfd04-10a8-4f60-9845-e0dc17e5467d"
      },
      "outputs": [
        {
          "data": {
            "image/png": "[encoded data removed]",
            "text/plain": [
              "<Figure size 1000x500 with 1 Axes>"
            ]
          },
          "metadata": {},
          "output_type": "display_data"
        },
        {
          "name": "stdout",
          "output_type": "stream",
          "text": [
            "Correlation between Departure Hour and Delay Minutes: 0.59\n"
          ]
        }
      ],
      "source": [
        "\n",
        "\n",
        "avg_delay_by_hour = df.groupby('DepartureHour')['DelayMinutes'].mean()\n",
        "\n",
        "plt.figure(figsize=(10, 5))\n",
        "avg_delay_by_hour.plot(kind='line', marker='o', color='seagreen')\n",
        "plt.title('Average Delay by Departure Hour')\n",
        "plt.xlabel('Departure Hour')\n",
        "plt.ylabel('Average Delay (minutes)')\n",
        "plt.tight_layout()\n",
        "plt.show()\n",
        "\n",
        "correlation_departure_hour_delay = df['DepartureHour'].corr(df['DelayMinutes'])\n",
        "print(f\"Correlation between Departure Hour and Delay Minutes: {correlation_departure_hour_delay:.2f}\")\n"
      ]
    },
    {
      "cell_type": "code",
      "execution_count": 34,
      "metadata": {
        "colab": {
          "base_uri": "https://localhost:8080/"
        },
        "id": "c9Bl27tXTu3u",
        "outputId": "640793c3-9fc0-4967-e81f-762e16746f1e"
      },
      "outputs": [
        {
          "name": "stdout",
          "output_type": "stream",
          "text": [
            "F-statistic: 1.74\n",
            "P-value: 0.230\n",
            "There is no statistically significant difference in delays between airlines.\n"
          ]
        }
      ],
      "source": [
        "\n",
        "from scipy import stats\n",
        "airline_groups = [df['DelayMinutes'][df['Airline'] == airline] for airline in df['Airline'].unique()]\n",
        "\n",
        "f_statistic, p_value = stats.f_oneway(*airline_groups)\n",
        "print(f\"F-statistic: {f_statistic:.2f}\")\n",
        "print(f\"P-value: {p_value:.3f}\")\n",
        "\n",
        "alpha = 0.05\n",
        "if p_value < alpha:\n",
        "  print(\"There is a statistically significant difference in delays between airlines.\")\n",
        "else:\n",
        "  print(\"There is no statistically significant difference in delays between airlines.\")\n",
        "\n",
        "df.to_csv('flight_data.csv', index=False)"
      ]
    },
    {
      "cell_type": "markdown",
      "metadata": {
        "id": "4NdK8wlxZbKw"
      },
      "source": [
        "INSIGHTS\n",
        "\n",
        "Flights that depart between 2 PM and 6 PM tend to have the highest average delays, likely due to increased congestion in airports or operational issues accumulating throughout the day.\n"
      ]
    },
    {
      "cell_type": "markdown",
      "metadata": {
        "id": "FBq31colUTQL"
      },
      "source": [
        "# 5. INSIGHTS:"
      ]
    },
    {
      "cell_type": "markdown",
      "metadata": {
        "id": "75W8tESfUdws"
      },
      "source": [
        "# a. Provide a summary of the key findings from the data."
      ]
    },
    {
      "cell_type": "markdown",
      "metadata": {
        "id": "dityCMIvUhMg"
      },
      "source": [
        "1.Delay Distribution: Most delays are under 30 minutes, but there are a few significant outliers with longer delays.\n",
        "\n",
        "\n",
        "2.Average Delays by Airline: The analysis reveals that certain airlines consistently experience longer delays. For example, American Airlines may have a higher average delay compared to others.\n",
        "Departure Times and Delays: Flights departing later in the day tend to have longer delays, suggesting that delays accumulate throughout the day.\n",
        "\n",
        "\n",
        "\n",
        "3.Airline Differences: There is a significant difference in the delay distributions across airlines, with some airlines consistently performing better in terms of punctuality"
      ]
    },
    {
      "cell_type": "markdown",
      "metadata": {
        "id": "50v-o_G_VHUf"
      },
      "source": [
        "#  Analyze the impact of departure times on delays."
      ]
    },
    {
      "cell_type": "markdown",
      "metadata": {
        "id": "GdL7krYjVgwi"
      },
      "source": [
        "Flights that depart between 2 PM and 6 PM tend to have the highest average delays, likely due to increased congestion in airports or operational issues accumulating throughout the day."
      ]
    },
    {
      "cell_type": "markdown",
      "metadata": {
        "id": "5js-sBUGaACa"
      },
      "source": [
        "\n",
        "\n",
        " 1. Delay Distribution:\n",
        "   - Most flights experience minimal delays (0-20 minutes).\n",
        "   - The distribution is right-skewed, indicating some flights with significantly longer delays.\n",
        "   - Outliers with substantial delays might exist.\n",
        "\n",
        " 2. Airline Performance:\n",
        "    - Some airlines might have a higher average delay than others.\n",
        "   - Statistical testing (ANOVA) can determine if there's a significant difference in delays between airlines.\n",
        "\n",
        "\n",
        "\n",
        "\n"
      ]
    },
    {
      "cell_type": "markdown",
      "metadata": {
        "id": "hMlglDeNVp_a"
      },
      "source": [
        "# Compare delay distributions between airlines."
      ]
    },
    {
      "cell_type": "code",
      "execution_count": 30,
      "metadata": {
        "colab": {
          "base_uri": "https://localhost:8080/",
          "height": 1000
        },
        "id": "a6REmsa4VjhY",
        "outputId": "d91f8df0-1754-4ac8-bd1a-bc70ec8c10fc"
      },
      "outputs": [
        {
          "name": "stderr",
          "output_type": "stream",
          "text": [
            "<ipython-input-30-94950c90d03f>:19: FutureWarning: \n",
            "\n",
            "Passing `palette` without assigning `hue` is deprecated and will be removed in v0.14.0. Assign the `x` variable to `hue` and set `legend=False` for the same effect.\n",
            "\n",
            "  ax = sns.boxplot(x='Airline', y='DelayMinutes', data=df, showfliers=False, linewidth=2.5,\n"
          ]
        },
        {
          "data": {
            "image/png": "[encoded data removed]",
            "text/plain": [
              "<Figure size 1200x700 with 1 Axes>"
            ]
          },
          "metadata": {},
          "output_type": "display_data"
        },
        {
          "name": "stderr",
          "output_type": "stream",
          "text": [
            "<ipython-input-30-94950c90d03f>:39: FutureWarning: \n",
            "\n",
            "Passing `palette` without assigning `hue` is deprecated and will be removed in v0.14.0. Assign the `x` variable to `hue` and set `legend=False` for the same effect.\n",
            "\n",
            "  ax = sns.violinplot(x='Airline', y='DelayMinutes', data=df, cut=0, inner=\"box\", linewidth=1.5, palette=\"Set2\")\n"
          ]
        },
        {
          "data": {
            "image/png": "[encoded data removed]",
            "text/plain": [
              "<Figure size 1200x700 with 1 Axes>"
            ]
          },
          "metadata": {},
          "output_type": "display_data"
        }
      ],
      "source": [
        "import seaborn as sns\n",
        "import matplotlib.pyplot as plt\n",
        "import pandas as pd\n",
        "\n",
        "sns.set_style(\"whitegrid\")\n",
        "sns.set_palette(\"muted\")\n",
        "\n",
        "\n",
        "def add_median_labels(ax, fmt='.1f'):\n",
        "    lines = ax.get_lines()\n",
        "    boxes = [c for c in ax.get_children() if type(c).__name__ == 'PathPatch']\n",
        "    for line in lines:\n",
        "        x, y = line.get_xydata()[0]\n",
        "        ax.text(x, y, f'{y:{fmt}}', ha='center', va='bottom', fontweight='bold', color='darkred', fontsize=12)\n",
        "\n",
        "plt.figure(figsize=(12, 7))\n",
        "ax = sns.boxplot(x='Airline', y='DelayMinutes', data=df, showfliers=False, linewidth=2.5,\n",
        "                 boxprops=dict(alpha=0.75), palette=\"Set2\")  # Set2 color palette for softer tones\n",
        "add_median_labels(ax)\n",
        "\n",
        "plt.title('Flight Delay Distribution by Airline', fontsize=18, fontweight='bold', color='#2F4F4F', pad=20)\n",
        "plt.xlabel('Airline', fontsize=14, fontweight='bold', color='#2F4F4F', labelpad=10)\n",
        "plt.ylabel('Delay (minutes)', fontsize=14, fontweight='bold', color='#2F4F4F', labelpad=10)\n",
        "plt.xticks(rotation=45, ha='right', fontsize=12)\n",
        "\n",
        "stats = f\"Overall Mean Delay: {df['DelayMinutes'].mean():.1f} minutes\\nOverall Median Delay: {df['DelayMinutes'].median():.1f} minutes\"\n",
        "plt.text(0.95, 0.95, stats, transform=plt.gca().transAxes, verticalalignment='top', horizontalalignment='right',\n",
        "         bbox=dict(boxstyle='round,pad=0.5', edgecolor='black', facecolor='#FFFFE0', alpha=0.85), fontsize=12)  # Pale yellow background\n",
        "\n",
        "plt.tight_layout()\n",
        "plt.show()\n",
        "\n",
        "plt.figure(figsize=(12, 7))\n",
        "ax = sns.violinplot(x='Airline', y='DelayMinutes', data=df, cut=0, inner=\"box\", linewidth=1.5, palette=\"Set2\")\n",
        "\n",
        "plt.title('Flight Delay Distribution by Airline (Violin Plot)', fontsize=18, fontweight='bold', color='#2F4F4F', pad=20)\n",
        "plt.xlabel('Airline', fontsize=14, fontweight='bold', color='#2F4F4F', labelpad=10)\n",
        "plt.ylabel('Delay (minutes)', fontsize=14, fontweight='bold', color='#2F4F4F', labelpad=10)\n",
        "plt.xticks(rotation=45, ha='right', fontsize=12)\n",
        "\n",
        "medians = df.groupby('Airline')['DelayMinutes'].median()\n",
        "vertical_offset = df['DelayMinutes'].median() *\n",
        "\n",
        "for xtick, median in zip(ax.get_xticks(), medians):\n",
        "    ax.text(xtick, median + vertical_offset, f'{median:.1f}',\n",
        "            horizontalalignment='center', size='x-small', color='white', weight='semibold')\n",
        "\n",
        "plt.tight_layout()\n",
        "plt.show()\n"
      ]
    },
    {
      "cell_type": "markdown",
      "metadata": {
        "id": "9_k5v-kGWpiH"
      },
      "source": [
        "Airlines like American Airlines and Delta have broader ranges and higher averages of delay minutes, indicating they may have more operational issues leading to delays.\n",
        "\n",
        "\n",
        "Airlines with smaller interquartile ranges (IQR) in the boxplot, such as United Airlines, seem to have more consistent performance in terms of avoiding extreme delays."
      ]
    },
    {
      "cell_type": "markdown",
      "metadata": {
        "id": "ZQy3b6GbbOMx"
      },
      "source": [
        "# Recommendations for Airlines\n",
        "-Schedule Optimization:\n",
        "Airlines should consider adjusting their schedules, especially during peak afternoon hours (2 PM - 6 PM), to reduce delays. Adding buffer time between consecutive flights may help mitigate the cumulative delays.\n",
        "\n",
        "\n",
        "-Targeting Airlines with Poor Performance:\n",
        "American Airlines and Delta should focus on reducing delays by improving ground handling processes and minimizing congestion during busy hours.\n",
        "\n",
        "\n",
        "\n",
        "-Improved Monitoring of Delays:\n",
        "Airports should track and address delays during the middle of the day, as flights departing later in the day tend to experience higher delays. Real-time data monitoring systems could help adjust schedules dynamically\n",
        "\n",
        "-Predictive Modeling:\n",
        " - Develop predictive models to forecast potential delays based on historical data and real-time conditions (e.g., weather, traffic).\n",
        "\n",
        "- This would enable airlines to take proactive measures to minimize delays and improve operational efficiency."
      ]
    },
    {
      "cell_type": "markdown",
      "metadata": {
        "id": "aoUZhMiUc-Gr"
      },
      "source": [
        "# Visualizations"
      ]
    },
    {
      "cell_type": "code",
      "execution_count": 31,
      "metadata": {
        "cellView": "form",
        "colab": {
          "base_uri": "https://localhost:8080/",
          "height": 430
        },
        "id": "1_OYM29fdInp",
        "outputId": "fa6642ba-6b09-4ac1-cad2-34998af1a2c7"
      },
      "outputs": [
        {
          "data": {
            "image/png": "[encoded data removed]",
            "text/plain": [
              "<Figure size 640x480 with 1 Axes>"
            ]
          },
          "metadata": {},
          "output_type": "display_data"
        }
      ],
      "source": [
        "# @title DepartureDate\n",
        "\n",
        "from matplotlib import pyplot as plt\n",
        "import seaborn as sns\n",
        "df.groupby('DepartureDate').size().plot(kind='barh', color=sns.palettes.mpl_palette('Dark2'))\n",
        "plt.gca().spines[['top', 'right',]].set_visible(False)"
      ]
    },
    {
      "cell_type": "code",
      "execution_count": 32,
      "metadata": {
        "cellView": "form",
        "colab": {
          "base_uri": "https://localhost:8080/",
          "height": 701
        },
        "id": "XRAMn7YjdtxO",
        "outputId": "5e1e7280-6d8e-47bf-daef-4402630ef47c"
      },
      "outputs": [
        {
          "data": {
            "image/png": "[encoded data removed]",
            "text/plain": [
              "<Figure size 800x800 with 2 Axes>"
            ]
          },
          "metadata": {},
          "output_type": "display_data"
        }
      ],
      "source": [
        "# @title DepartureDate vs ArrivalDate\n",
        "\n",
        "from matplotlib import pyplot as plt\n",
        "import seaborn as sns\n",
        "import pandas as pd\n",
        "plt.subplots(figsize=(8, 8))\n",
        "df_2dhist = pd.DataFrame({\n",
        "    x_label: grp['ArrivalDate'].value_counts()\n",
        "    for x_label, grp in df.groupby('DepartureDate')\n",
        "})\n",
        "sns.heatmap(df_2dhist, cmap='viridis')\n",
        "plt.xlabel('DepartureDate')\n",
        "_ = plt.ylabel('ArrivalDate')"
      ]
    },
    {
      "cell_type": "code",
      "execution_count": 38,
      "metadata": {
        "id": "6gSBYMQYxwZw"
      },
      "outputs": [],
      "source": [
        "from sqlalchemy import create_engine, text\n",
        "from dotenv import load_dotenv\n",
        "import warnings\n",
        "import os\n",
        "\n",
        "warnings.filterwarnings(\"ignore\")\n",
        "\n",
        "load_dotenv()\n",
        "\n",
        "DB_USERNAME = os.getenv(\"DB_USERNAME\")\n",
        "DB_PASSWORD = os.getenv(\"DB_PASSWORD\")\n",
        "DB_HOST = os.getenv(\"DB_HOST\")\n",
        "DB_NAME = os.getenv(\"DB_NAME\")\n",
        "DB_PORT = os.getenv(\"DB_PORT\")\n",
        "\n",
        "\n",
        "DATABASE_URI = (f\"mysql+pymysql://{DB_USERNAME}:{DB_PASSWORD}@{DB_HOST}:{DB_PORT}/{DB_NAME}\")\n",
        "\n",
        "\n",
        "engine = create_engine(DATABASE_URI)\n",
        "\n",
        "\n",
        "with engine.connect() as connection:\n",
        "    connection.execute(text(\"\"\"\n",
        "        CREATE TABLE IF NOT EXISTS flight_delays1 (\n",
        "            ID INT AUTO_INCREMENT PRIMARY KEY,\n",
        "            FlightNumber VARCHAR(255),\n",
        "            DepartureDate DATE,\n",
        "            DepartureTime VARCHAR(255),\n",
        "            ArrivalDate DATE,\n",
        "            ArrivalTime VARCHAR(255),\n",
        "            Airline VARCHAR(255),\n",
        "            DelayMinutes FLOAT,\n",
        "            FlightDurationMinutes FLOAT,\n",
        "            DepartureHour INT,\n",
        "            DayOfWeek INT,\n",
        "            Month INT\n",
        "        )\n",
        "    \"\"\"))\n"
      ]
    },
    {
      "cell_type": "code",
      "execution_count": 39,
      "metadata": {
        "colab": {
          "base_uri": "https://localhost:8080/"
        },
        "id": "hjEoc4ksyXJk",
        "outputId": "abdf1140-16a7-4933-f75b-28bc79e2ecab"
      },
      "outputs": [
        {
          "data": {
            "text/plain": [
              "12"
            ]
          },
          "execution_count": 39,
          "metadata": {},
          "output_type": "execute_result"
        }
      ],
      "source": [
        "# Read the CSV file\n",
        "csv_file_path = 'flight_data.csv'\n",
        "df = pd.read_csv(csv_file_path)\n",
        "\n",
        "df.to_sql('flight_delays1', con=engine, if_exists='append', index=False)"
      ]
    },
    {
      "cell_type": "code",
      "execution_count": 40,
      "metadata": {
        "colab": {
          "base_uri": "https://localhost:8080/"
        },
        "id": "Xk9tUupWug4q",
        "outputId": "f1f25d7b-c6ca-4afd-8a1a-40389b7639c3"
      },
      "outputs": [
        {
          "name": "stdout",
          "output_type": "stream",
          "text": [
            "(1, 'AA1234', datetime.date(2023, 9, 1), '08:30', datetime.date(2023, 9, 1), '10:45', 'American Airlines', 15.0, 135.0, 8, 4, 9)\n",
            "(2, 'DL5678', datetime.date(2023, 9, 1), '13:15', datetime.date(2023, 9, 1), '15:30', 'Delta', 5.0, 135.0, 13, 4, 9)\n",
            "(3, 'UA9101', datetime.date(2023, 9, 1), '17:00', datetime.date(2023, 9, 1), '19:15', 'United Airlines', 25.0, 135.0, 17, 4, 9)\n",
            "(4, 'AA1234', datetime.date(2023, 9, 1), '08:30', datetime.date(2023, 9, 1), '22:45', 'American Airlines', 30.0, 855.0, 8, 4, 9)\n",
            "(5, 'DL5678', datetime.date(2023, 9, 2), '14:00', datetime.date(2023, 9, 2), '16:10', 'Delta', 13.3333, 130.0, 14, 5, 9)\n",
            "(6, 'UA9101', datetime.date(2023, 9, 2), '17:00', datetime.date(2023, 9, 2), '19:15', 'United Airlines', 20.0, 135.0, 17, 5, 9)\n",
            "(7, 'AA1234', datetime.date(2023, 9, 2), '20:30', datetime.date(2023, 9, 3), '10:45', 'American Airlines', 60.0, 855.0, 20, 5, 9)\n",
            "(8, 'DL5678', datetime.date(2023, 9, 3), '13:00', datetime.date(2023, 9, 3), '15:30', 'Delta', 10.0, 150.0, 13, 6, 9)\n",
            "(9, 'UA9101', datetime.date(2023, 9, 3), '15:00', datetime.date(2023, 9, 3), '17:20', 'United Airlines', 30.0, 140.0, 15, 6, 9)\n",
            "(10, 'AA1234', datetime.date(2023, 9, 3), '08:30', datetime.date(2023, 9, 3), '10:00', 'American Airlines', 15.0, 90.0, 8, 6, 9)\n",
            "(11, 'DL5678', datetime.date(2023, 9, 4), '12:30', datetime.date(2023, 9, 4), '14:40', 'Delta', 25.0, 130.0, 12, 0, 9)\n",
            "(12, 'UA9101', datetime.date(2023, 9, 4), '19:00', datetime.date(2023, 9, 4), '21:15', 'United Airlines', 45.0, 135.0, 19, 0, 9)\n"
          ]
        }
      ],
      "source": [
        "# Create a connection and execute SELECT query to fetch all values\n",
        "with engine.connect() as connection:\n",
        "    result = connection.execute(text(\"SELECT * FROM flight_delays1\"))\n",
        "\n",
        "    rows = result.fetchall()\n",
        "\n",
        "    for row in rows:\n",
        "        print(row)"
      ]
    },
    {
      "cell_type": "code",
      "execution_count": 42,
      "metadata": {
        "colab": {
          "base_uri": "https://localhost:8080/"
        },
        "id": "gdOzi_ti1cW1",
        "outputId": "06b9236b-56e7-4ff6-e6e3-d2dddcb99916"
      },
      "outputs": [
        {
          "name": "stdout",
          "output_type": "stream",
          "text": [
            "Update successful!\n"
          ]
        }
      ],
      "source": [
        "# The values to update and the criteria for the update\n",
        "flight_number_to_update = 'AA1234'\n",
        "departure_date_to_update = '2023-09-01'\n",
        "\n",
        "\n",
        "new_delay_minutes = 30.0\n",
        "new_flight_duration = 120.0\n",
        "\n",
        "with engine.connect() as connection:\n",
        "    connection.execute(text(\"\"\"\n",
        "        UPDATE flight_delays\n",
        "        SET DelayMinutes = :new_delay, FlightDurationMinutes = :new_duration\n",
        "        WHERE FlightNumber = :flight_number AND DepartureDate = :departure_date\n",
        "    \"\"\"), {\n",
        "        'new_delay': new_delay_minutes,\n",
        "        'new_duration': new_flight_duration,\n",
        "        'flight_number': flight_number_to_update,\n",
        "        'departure_date': departure_date_to_update\n",
        "    })\n",
        "\n",
        "    print(\"Update successful!\")"
      ]
    },
    {
      "cell_type": "code",
      "execution_count": 44,
      "metadata": {
        "colab": {
          "base_uri": "https://localhost:8080/"
        },
        "id": "DWVk8SnKujN5",
        "outputId": "6d497708-fbe2-4676-a558-faf783998684"
      },
      "outputs": [
        {
          "name": "stdout",
          "output_type": "stream",
          "text": [
            "(1, 'AA1234', datetime.date(2023, 9, 1), '08:30', datetime.date(2023, 9, 1), '10:45', 'American Airlines', 15.0, 135.0, 8, 4, 9)\n",
            "(4, 'AA1234', datetime.date(2023, 9, 1), '08:30', datetime.date(2023, 9, 1), '22:45', 'American Airlines', 30.0, 855.0, 8, 4, 9)\n"
          ]
        }
      ],
      "source": [
        "# The flight number and departure date to display the updated record\n",
        "flight_number_to_display = 'AA1234'\n",
        "departure_date_to_display = '2023-09-01'\n",
        "\n",
        "with engine.connect() as connection:\n",
        "    result = connection.execute(text(\"\"\"\n",
        "        SELECT * FROM flight_delays1\n",
        "        WHERE FlightNumber = :flight_number AND DepartureDate = :departure_date\n",
        "    \"\"\"), {\n",
        "        'flight_number': flight_number_to_display,\n",
        "        'departure_date': departure_date_to_display\n",
        "    })\n",
        "\n",
        "    updated_rows = result.fetchall()\n",
        "\n",
        "    if updated_rows:\n",
        "        for row in updated_rows:\n",
        "            print(row)\n",
        "    else:\n",
        "        print(\"No records found for the specified flight number and departure date.\")"
      ]
    },
    {
      "cell_type": "code",
      "execution_count": 45,
      "metadata": {
        "colab": {
          "base_uri": "https://localhost:8080/"
        },
        "id": "QneK7lgn2T5p",
        "outputId": "58c4e097-b430-497b-b6aa-d9bf319700f9"
      },
      "outputs": [
        {
          "name": "stdout",
          "output_type": "stream",
          "text": [
            "Entry deleted successfully!\n",
            "No records found in the flight_delays table.\n"
          ]
        }
      ],
      "source": [
        "#  The flight number and departure date of the entry to delete\n",
        "flight_number_to_delete = 'AA1234'\n",
        "departure_date_to_delete = '2023-09-01'\n",
        "\n",
        "\n",
        "with engine.connect() as connection:\n",
        "\n",
        "    connection.execute(text(\"\"\"\n",
        "        DELETE FROM flight_delays1\n",
        "        WHERE FlightNumber = :flight_number AND DepartureDate = :departure_date\n",
        "    \"\"\"), {\n",
        "        'flight_number': flight_number_to_delete,\n",
        "        'departure_date': departure_date_to_delete\n",
        "    })\n",
        "\n",
        "    print(\"Entry deleted successfully!\")\n",
        "\n",
        "\n",
        "with engine.connect() as connection:\n",
        "    result = connection.execute(text(\"SELECT * FROM flight_delays\"))\n",
        "\n",
        "\n",
        "    remaining_rows = result.fetchall()\n",
        "\n",
        "\n",
        "    if remaining_rows:\n",
        "        for row in remaining_rows:\n",
        "            print(row)\n",
        "    else:\n",
        "        print(\"No records found in the flight_delays table.\")"
      ]
    },
    {
      "cell_type": "markdown",
      "metadata": {
        "id": "bihwUzjK2TZM"
      },
      "source": []
    },
    {
      "cell_type": "code",
      "execution_count": 46,
      "metadata": {
        "id": "jhiSG-1Z2m_2"
      },
      "outputs": [],
      "source": [
        "engine.dispose()"
      ]
    }
  ],
  "metadata": {
    "colab": {
      "provenance": []
    },
    "kernelspec": {
      "display_name": "Python 3",
      "name": "python3"
    },
    "language_info": {
      "name": "python"
    }
  },
  "nbformat": 4,
  "nbformat_minor": 0
}
